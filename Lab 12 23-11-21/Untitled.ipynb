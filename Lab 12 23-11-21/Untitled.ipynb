{
 "cells": [
  {
   "cell_type": "code",
   "execution_count": 6,
   "metadata": {},
   "outputs": [],
   "source": [
    "# Import the pandas library.\n",
    "import pandas\n",
    "# Read in the airports data.\n",
    "airports = pandas.read_csv(\"airports.csv\", header=None, dtype=str)\n",
    "airports.columns = [\"id\", \"name\", \"city\", \"country\", \"code\", \"icao\", \"latitude\", \"longitude\", \"altitude\", \"offset\", \"dst\", \"timezone\"]\n",
    "# Read in the airlines data.\n",
    "airlines = pandas.read_csv(\"airlines.csv\", header=None, dtype=str)\n",
    "airlines.columns = [\"id\", \"name\", \"alias\", \"iata\", \"icao\", \"callsign\", \"country\", \"active\"]\n",
    "# Read in the routes data.\n",
    "routes = pandas.read_csv(\"routes.csv\", header=None, dtype=str)\n",
    "routes.columns = [\"airline\", \"airline_id\", \"source\", \"source_id\", \"dest\", \"dest_id\", \"codeshare\", \"stops\", \"equipment\"]"
   ]
  },
  {
   "cell_type": "code",
   "execution_count": 7,
   "metadata": {},
   "outputs": [
    {
     "data": {
      "text/html": [
       "<div>\n",
       "<style scoped>\n",
       "    .dataframe tbody tr th:only-of-type {\n",
       "        vertical-align: middle;\n",
       "    }\n",
       "\n",
       "    .dataframe tbody tr th {\n",
       "        vertical-align: top;\n",
       "    }\n",
       "\n",
       "    .dataframe thead th {\n",
       "        text-align: right;\n",
       "    }\n",
       "</style>\n",
       "<table border=\"1\" class=\"dataframe\">\n",
       "  <thead>\n",
       "    <tr style=\"text-align: right;\">\n",
       "      <th></th>\n",
       "      <th>id</th>\n",
       "      <th>name</th>\n",
       "      <th>city</th>\n",
       "      <th>country</th>\n",
       "      <th>code</th>\n",
       "      <th>icao</th>\n",
       "      <th>latitude</th>\n",
       "      <th>longitude</th>\n",
       "      <th>altitude</th>\n",
       "      <th>offset</th>\n",
       "      <th>dst</th>\n",
       "      <th>timezone</th>\n",
       "    </tr>\n",
       "  </thead>\n",
       "  <tbody>\n",
       "    <tr>\n",
       "      <th>0</th>\n",
       "      <td>1</td>\n",
       "      <td>Goroka Airport</td>\n",
       "      <td>Goroka</td>\n",
       "      <td>Papua New Guinea</td>\n",
       "      <td>GKA</td>\n",
       "      <td>AYGA</td>\n",
       "      <td>-6.081689835</td>\n",
       "      <td>145.3919983</td>\n",
       "      <td>5282</td>\n",
       "      <td>10</td>\n",
       "      <td>U</td>\n",
       "      <td>Pacific/Port_Moresby</td>\n",
       "    </tr>\n",
       "    <tr>\n",
       "      <th>1</th>\n",
       "      <td>2</td>\n",
       "      <td>Madang Airport</td>\n",
       "      <td>Madang</td>\n",
       "      <td>Papua New Guinea</td>\n",
       "      <td>MAG</td>\n",
       "      <td>AYMD</td>\n",
       "      <td>-5.207079887</td>\n",
       "      <td>145.7890015</td>\n",
       "      <td>20</td>\n",
       "      <td>10</td>\n",
       "      <td>U</td>\n",
       "      <td>Pacific/Port_Moresby</td>\n",
       "    </tr>\n",
       "    <tr>\n",
       "      <th>2</th>\n",
       "      <td>3</td>\n",
       "      <td>Mount Hagen Kagamuga Airport</td>\n",
       "      <td>Mount Hagen</td>\n",
       "      <td>Papua New Guinea</td>\n",
       "      <td>HGU</td>\n",
       "      <td>AYMH</td>\n",
       "      <td>-5.826789856</td>\n",
       "      <td>144.2960052</td>\n",
       "      <td>5388</td>\n",
       "      <td>10</td>\n",
       "      <td>U</td>\n",
       "      <td>Pacific/Port_Moresby</td>\n",
       "    </tr>\n",
       "    <tr>\n",
       "      <th>3</th>\n",
       "      <td>4</td>\n",
       "      <td>Nadzab Airport</td>\n",
       "      <td>Nadzab</td>\n",
       "      <td>Papua New Guinea</td>\n",
       "      <td>LAE</td>\n",
       "      <td>AYNZ</td>\n",
       "      <td>-6.569803</td>\n",
       "      <td>146.725977</td>\n",
       "      <td>239</td>\n",
       "      <td>10</td>\n",
       "      <td>U</td>\n",
       "      <td>Pacific/Port_Moresby</td>\n",
       "    </tr>\n",
       "    <tr>\n",
       "      <th>4</th>\n",
       "      <td>5</td>\n",
       "      <td>Port Moresby Jacksons International Airport</td>\n",
       "      <td>Port Moresby</td>\n",
       "      <td>Papua New Guinea</td>\n",
       "      <td>POM</td>\n",
       "      <td>AYPY</td>\n",
       "      <td>-9.443380356</td>\n",
       "      <td>147.2200012</td>\n",
       "      <td>146</td>\n",
       "      <td>10</td>\n",
       "      <td>U</td>\n",
       "      <td>Pacific/Port_Moresby</td>\n",
       "    </tr>\n",
       "  </tbody>\n",
       "</table>\n",
       "</div>"
      ],
      "text/plain": [
       "  id                                         name          city  \\\n",
       "0  1                               Goroka Airport        Goroka   \n",
       "1  2                               Madang Airport        Madang   \n",
       "2  3                 Mount Hagen Kagamuga Airport   Mount Hagen   \n",
       "3  4                               Nadzab Airport        Nadzab   \n",
       "4  5  Port Moresby Jacksons International Airport  Port Moresby   \n",
       "\n",
       "            country code  icao      latitude    longitude altitude offset dst  \\\n",
       "0  Papua New Guinea  GKA  AYGA  -6.081689835  145.3919983     5282     10   U   \n",
       "1  Papua New Guinea  MAG  AYMD  -5.207079887  145.7890015       20     10   U   \n",
       "2  Papua New Guinea  HGU  AYMH  -5.826789856  144.2960052     5388     10   U   \n",
       "3  Papua New Guinea  LAE  AYNZ     -6.569803   146.725977      239     10   U   \n",
       "4  Papua New Guinea  POM  AYPY  -9.443380356  147.2200012      146     10   U   \n",
       "\n",
       "               timezone  \n",
       "0  Pacific/Port_Moresby  \n",
       "1  Pacific/Port_Moresby  \n",
       "2  Pacific/Port_Moresby  \n",
       "3  Pacific/Port_Moresby  \n",
       "4  Pacific/Port_Moresby  "
      ]
     },
     "execution_count": 7,
     "metadata": {},
     "output_type": "execute_result"
    }
   ],
   "source": [
    "airports.head()"
   ]
  },
  {
   "cell_type": "code",
   "execution_count": 8,
   "metadata": {},
   "outputs": [
    {
     "data": {
      "text/html": [
       "<div>\n",
       "<style scoped>\n",
       "    .dataframe tbody tr th:only-of-type {\n",
       "        vertical-align: middle;\n",
       "    }\n",
       "\n",
       "    .dataframe tbody tr th {\n",
       "        vertical-align: top;\n",
       "    }\n",
       "\n",
       "    .dataframe thead th {\n",
       "        text-align: right;\n",
       "    }\n",
       "</style>\n",
       "<table border=\"1\" class=\"dataframe\">\n",
       "  <thead>\n",
       "    <tr style=\"text-align: right;\">\n",
       "      <th></th>\n",
       "      <th>id</th>\n",
       "      <th>name</th>\n",
       "      <th>alias</th>\n",
       "      <th>iata</th>\n",
       "      <th>icao</th>\n",
       "      <th>callsign</th>\n",
       "      <th>country</th>\n",
       "      <th>active</th>\n",
       "    </tr>\n",
       "  </thead>\n",
       "  <tbody>\n",
       "    <tr>\n",
       "      <th>0</th>\n",
       "      <td>-1</td>\n",
       "      <td>Unknown</td>\n",
       "      <td>\\N</td>\n",
       "      <td>-</td>\n",
       "      <td>NaN</td>\n",
       "      <td>\\N</td>\n",
       "      <td>\\N</td>\n",
       "      <td>Y</td>\n",
       "    </tr>\n",
       "    <tr>\n",
       "      <th>1</th>\n",
       "      <td>1</td>\n",
       "      <td>Private flight</td>\n",
       "      <td>\\N</td>\n",
       "      <td>-</td>\n",
       "      <td>NaN</td>\n",
       "      <td>NaN</td>\n",
       "      <td>NaN</td>\n",
       "      <td>Y</td>\n",
       "    </tr>\n",
       "    <tr>\n",
       "      <th>2</th>\n",
       "      <td>2</td>\n",
       "      <td>135 Airways</td>\n",
       "      <td>\\N</td>\n",
       "      <td>NaN</td>\n",
       "      <td>GNL</td>\n",
       "      <td>GENERAL</td>\n",
       "      <td>United States</td>\n",
       "      <td>N</td>\n",
       "    </tr>\n",
       "    <tr>\n",
       "      <th>3</th>\n",
       "      <td>3</td>\n",
       "      <td>1Time Airline</td>\n",
       "      <td>\\N</td>\n",
       "      <td>1T</td>\n",
       "      <td>RNX</td>\n",
       "      <td>NEXTIME</td>\n",
       "      <td>South Africa</td>\n",
       "      <td>Y</td>\n",
       "    </tr>\n",
       "    <tr>\n",
       "      <th>4</th>\n",
       "      <td>4</td>\n",
       "      <td>2 Sqn No 1 Elementary Flying Training School</td>\n",
       "      <td>\\N</td>\n",
       "      <td>NaN</td>\n",
       "      <td>WYT</td>\n",
       "      <td>NaN</td>\n",
       "      <td>United Kingdom</td>\n",
       "      <td>N</td>\n",
       "    </tr>\n",
       "  </tbody>\n",
       "</table>\n",
       "</div>"
      ],
      "text/plain": [
       "   id                                          name alias iata icao callsign  \\\n",
       "0  -1                                       Unknown    \\N    -  NaN       \\N   \n",
       "1   1                                Private flight    \\N    -  NaN      NaN   \n",
       "2   2                                   135 Airways    \\N  NaN  GNL  GENERAL   \n",
       "3   3                                 1Time Airline    \\N   1T  RNX  NEXTIME   \n",
       "4   4  2 Sqn No 1 Elementary Flying Training School    \\N  NaN  WYT      NaN   \n",
       "\n",
       "          country active  \n",
       "0              \\N      Y  \n",
       "1             NaN      Y  \n",
       "2   United States      N  \n",
       "3    South Africa      Y  \n",
       "4  United Kingdom      N  "
      ]
     },
     "execution_count": 8,
     "metadata": {},
     "output_type": "execute_result"
    }
   ],
   "source": [
    "airlines.head()"
   ]
  },
  {
   "cell_type": "code",
   "execution_count": 9,
   "metadata": {},
   "outputs": [
    {
     "data": {
      "text/html": [
       "<div>\n",
       "<style scoped>\n",
       "    .dataframe tbody tr th:only-of-type {\n",
       "        vertical-align: middle;\n",
       "    }\n",
       "\n",
       "    .dataframe tbody tr th {\n",
       "        vertical-align: top;\n",
       "    }\n",
       "\n",
       "    .dataframe thead th {\n",
       "        text-align: right;\n",
       "    }\n",
       "</style>\n",
       "<table border=\"1\" class=\"dataframe\">\n",
       "  <thead>\n",
       "    <tr style=\"text-align: right;\">\n",
       "      <th></th>\n",
       "      <th>airline</th>\n",
       "      <th>airline_id</th>\n",
       "      <th>source</th>\n",
       "      <th>source_id</th>\n",
       "      <th>dest</th>\n",
       "      <th>dest_id</th>\n",
       "      <th>codeshare</th>\n",
       "      <th>stops</th>\n",
       "      <th>equipment</th>\n",
       "    </tr>\n",
       "  </thead>\n",
       "  <tbody>\n",
       "    <tr>\n",
       "      <th>0</th>\n",
       "      <td>2B</td>\n",
       "      <td>410</td>\n",
       "      <td>AER</td>\n",
       "      <td>2965</td>\n",
       "      <td>KZN</td>\n",
       "      <td>2990</td>\n",
       "      <td>NaN</td>\n",
       "      <td>0</td>\n",
       "      <td>CR2</td>\n",
       "    </tr>\n",
       "    <tr>\n",
       "      <th>1</th>\n",
       "      <td>2B</td>\n",
       "      <td>410</td>\n",
       "      <td>ASF</td>\n",
       "      <td>2966</td>\n",
       "      <td>KZN</td>\n",
       "      <td>2990</td>\n",
       "      <td>NaN</td>\n",
       "      <td>0</td>\n",
       "      <td>CR2</td>\n",
       "    </tr>\n",
       "    <tr>\n",
       "      <th>2</th>\n",
       "      <td>2B</td>\n",
       "      <td>410</td>\n",
       "      <td>ASF</td>\n",
       "      <td>2966</td>\n",
       "      <td>MRV</td>\n",
       "      <td>2962</td>\n",
       "      <td>NaN</td>\n",
       "      <td>0</td>\n",
       "      <td>CR2</td>\n",
       "    </tr>\n",
       "    <tr>\n",
       "      <th>3</th>\n",
       "      <td>2B</td>\n",
       "      <td>410</td>\n",
       "      <td>CEK</td>\n",
       "      <td>2968</td>\n",
       "      <td>KZN</td>\n",
       "      <td>2990</td>\n",
       "      <td>NaN</td>\n",
       "      <td>0</td>\n",
       "      <td>CR2</td>\n",
       "    </tr>\n",
       "    <tr>\n",
       "      <th>4</th>\n",
       "      <td>2B</td>\n",
       "      <td>410</td>\n",
       "      <td>CEK</td>\n",
       "      <td>2968</td>\n",
       "      <td>OVB</td>\n",
       "      <td>4078</td>\n",
       "      <td>NaN</td>\n",
       "      <td>0</td>\n",
       "      <td>CR2</td>\n",
       "    </tr>\n",
       "  </tbody>\n",
       "</table>\n",
       "</div>"
      ],
      "text/plain": [
       "  airline airline_id source source_id dest dest_id codeshare stops equipment\n",
       "0      2B        410    AER      2965  KZN    2990       NaN     0       CR2\n",
       "1      2B        410    ASF      2966  KZN    2990       NaN     0       CR2\n",
       "2      2B        410    ASF      2966  MRV    2962       NaN     0       CR2\n",
       "3      2B        410    CEK      2968  KZN    2990       NaN     0       CR2\n",
       "4      2B        410    CEK      2968  OVB    4078       NaN     0       CR2"
      ]
     },
     "execution_count": 9,
     "metadata": {},
     "output_type": "execute_result"
    }
   ],
   "source": [
    "routes.head()"
   ]
  },
  {
   "cell_type": "code",
   "execution_count": 10,
   "metadata": {},
   "outputs": [],
   "source": [
    "routes = routes[routes[\"airline_id\"] != \"\\\\N\"]"
   ]
  },
  {
   "cell_type": "code",
   "execution_count": 11,
   "metadata": {},
   "outputs": [],
   "source": [
    "import math\n",
    "def haversine(lon1, lat1, lon2, lat2):\n",
    "    # Convert coordinates to floats.\n",
    "    lon1, lat1, lon2, lat2 = [float(lon1), float(lat1), float(lon2), float(lat2)]\n",
    "    # Convert to radians from degrees.\n",
    "    lon1, lat1, lon2, lat2 = map(math.radians, [lon1, lat1, lon2, lat2])\n",
    "    # Compute distance.\n",
    "    dlon = lon2 - lon1\n",
    "    dlat = lat2 - lat1\n",
    "    a = math.sin(dlat/2)**2 + math.cos(lat1) * math.cos(lat2) * math.sin(dlon/2)**2\n",
    "    c = 2 * math.asin(math.sqrt(a))\n",
    "    km = 6367 * c\n",
    "    return km"
   ]
  },
  {
   "cell_type": "code",
   "execution_count": 12,
   "metadata": {},
   "outputs": [],
   "source": [
    "def calc_dist(row):\n",
    "    dist = 0\n",
    "    try:\n",
    "        # Match source and destination to get coordinates.\n",
    "        source = airports[airports[\"id\"] == row[\"source_id\"]].iloc[0]\n",
    "        dest = airports[airports[\"id\"] == row[\"dest_id\"]].iloc[0]\n",
    "        # Use coordinates to compute distance.\n",
    "        dist = haversine(dest[\"longitude\"], dest[\"latitude\"], source[\"longitude\"], source[\"latitude\"])\n",
    "    except (ValueError, IndexError):\n",
    "        pass\n",
    "    return dist"
   ]
  },
  {
   "cell_type": "code",
   "execution_count": 13,
   "metadata": {},
   "outputs": [],
   "source": [
    "route_lengths = routes.apply(calc_dist, axis=1)"
   ]
  },
  {
   "cell_type": "code",
   "execution_count": 14,
   "metadata": {},
   "outputs": [
    {
     "data": {
      "text/plain": [
       "(array([2.2631e+04, 1.9856e+04, 1.0061e+04, 5.3400e+03, 2.6230e+03,\n",
       "        1.1050e+03, 8.7800e+02, 1.0370e+03, 9.2600e+02, 7.8200e+02,\n",
       "        6.5500e+02, 5.5500e+02, 2.4900e+02, 2.4400e+02, 1.5400e+02,\n",
       "        4.4000e+01, 3.8000e+01, 2.0000e+00, 0.0000e+00, 4.0000e+00]),\n",
       " array([    0.        ,   803.60790188,  1607.21580375,  2410.82370563,\n",
       "         3214.43160751,  4018.03950938,  4821.64741126,  5625.25531313,\n",
       "         6428.86321501,  7232.47111689,  8036.07901876,  8839.68692064,\n",
       "         9643.29482252, 10446.90272439, 11250.51062627, 12054.11852815,\n",
       "        12857.72643002, 13661.3343319 , 14464.94223378, 15268.55013565,\n",
       "        16072.15803753]),\n",
       " <BarContainer object of 20 artists>)"
      ]
     },
     "execution_count": 14,
     "metadata": {},
     "output_type": "execute_result"
    },
    {
     "data": {
      "image/png": "[encoded data removed]",
      "text/plain": [
       "<Figure size 432x288 with 1 Axes>"
      ]
     },
     "metadata": {
      "needs_background": "light"
     },
     "output_type": "display_data"
    }
   ],
   "source": [
    "import matplotlib.pyplot as plt\n",
    "\n",
    "plt.hist(route_lengths, bins=20)"
   ]
  },
  {
   "cell_type": "code",
   "execution_count": 15,
   "metadata": {},
   "outputs": [
    {
     "name": "stderr",
     "output_type": "stream",
     "text": [
      "D:\\Anaconda\\lib\\site-packages\\seaborn\\distributions.py:2557: FutureWarning: `distplot` is a deprecated function and will be removed in a future version. Please adapt your code to use either `displot` (a figure-level function with similar flexibility) or `histplot` (an axes-level function for histograms).\n",
      "  warnings.warn(msg, FutureWarning)\n"
     ]
    },
    {
     "data": {
      "text/plain": [
       "<AxesSubplot:ylabel='Density'>"
      ]
     },
     "execution_count": 15,
     "metadata": {},
     "output_type": "execute_result"
    },
    {
     "data": {
      "image/png": "[encoded data removed]",
      "text/plain": [
       "<Figure size 432x288 with 1 Axes>"
      ]
     },
     "metadata": {
      "needs_background": "light"
     },
     "output_type": "display_data"
    }
   ],
   "source": [
    "import seaborn\n",
    "seaborn.distplot(route_lengths, bins=20)"
   ]
  },
  {
   "cell_type": "code",
   "execution_count": 17,
   "metadata": {},
   "outputs": [],
   "source": [
    "import numpy\n",
    "# Put relevant columns into a dataframe.\n",
    "route_length_df = pandas.DataFrame({\"length\": route_lengths, \"id\": routes[\"airline_id\"]})\n",
    "# Compute the mean route length per airline.\n",
    "airline_route_lengths = route_length_df.groupby(\"id\").aggregate(numpy.mean)\n",
    "# Sort by length so we can make a better chart.\n",
    "airline_route_lengths = airline_route_lengths.sort_values(\"length\", ascending=False)"
   ]
  },
  {
   "cell_type": "code",
   "execution_count": 18,
   "metadata": {},
   "outputs": [
    {
     "data": {
      "text/plain": [
       "<BarContainer object of 547 artists>"
      ]
     },
     "execution_count": 18,
     "metadata": {},
     "output_type": "execute_result"
    },
    {
     "data": {
      "image/png": "[encoded data removed]",
      "text/plain": [
       "<Figure size 432x288 with 1 Axes>"
      ]
     },
     "metadata": {
      "needs_background": "light"
     },
     "output_type": "display_data"
    }
   ],
   "source": [
    "plt.bar(range(airline_route_lengths.shape[0]), airline_route_lengths[\"length\"])"
   ]
  },
  {
   "cell_type": "code",
   "execution_count": 19,
   "metadata": {},
   "outputs": [],
   "source": [
    "def lookup_name(row):\n",
    "    try:\n",
    "        # Match the row id to the id in the airlines dataframe so we can get the name.\n",
    "        name = airlines[\"name\"][airlines[\"id\"] == row[\"id\"]].iloc[0]\n",
    "    except (ValueError, IndexError):\n",
    "        name = \"\"\n",
    "    return name\n",
    "# Add the index (the airline ids) as a column.\n",
    "airline_route_lengths[\"id\"] = airline_route_lengths.index.copy()\n",
    "# Find all the airline names.\n",
    "airline_route_lengths[\"name\"] = airline_route_lengths.apply(lookup_name, axis=1)\n",
    "# Remove duplicate values in the index.\n",
    "airline_route_lengths.index = range(airline_route_lengths.shape[0])"
   ]
  },
  {
   "cell_type": "code",
   "execution_count": 33,
   "metadata": {},
   "outputs": [],
   "source": [
    "import numpy as np\n",
    "from bokeh.io import output_notebook\n",
    "#from bokeh.charts import Bar, showoutput_notebook()\n",
    "#p = Bar(airline_route_lengths, 'name', values='length', title=\"Average airline route lengths\")\n",
    "#show(p)\n",
    "from bokeh.plotting import figure\n",
    "#p = figure(x_range=airline_route_lengths, height=250, title=\"Average airline route lengths\", toolbar_location=None, tools=\"\")\n",
    "\n",
    "#p.vbar(x=airline_route_lengths, top=counts, width=0.9)"
   ]
  },
  {
   "cell_type": "code",
   "execution_count": 34,
   "metadata": {},
   "outputs": [],
   "source": [
    "long_routes = len([k for k in route_lengths if k > 10000]) / len(route_lengths)\n",
    "medium_routes = len([k for k in route_lengths if k < 10000 and k > 2000]) / len(route_lengths)\n",
    "short_routes = len([k for k in route_lengths if k < 2000]) / len(route_lengths)"
   ]
  },
  {
   "cell_type": "code",
   "execution_count": 36,
   "metadata": {},
   "outputs": [
    {
     "name": "stdout",
     "output_type": "stream",
     "text": [
      "Collecting pygal\n",
      "  Downloading pygal-2.4.0-py2.py3-none-any.whl (127 kB)\n",
      "Installing collected packages: pygal\n",
      "Successfully installed pygal-2.4.0\n",
      "Note: you may need to restart the kernel to use updated packages.\n"
     ]
    }
   ],
   "source": [
    "pip install pygal"
   ]
  },
  {
   "cell_type": "code",
   "execution_count": 37,
   "metadata": {},
   "outputs": [
    {
     "data": {
      "image/svg+xml": [
       "<svg xmlns=\"http://www.w3.org/2000/svg\" xmlns:xlink=\"http://www.w3.org/1999/xlink\" id=\"chart-3aebec30-3f27-49ad-a341-4d2149da1d7e\" class=\"pygal-chart\" viewBox=\"0 0 800 600\"><!--Generated with pygal 2.4.0 (lxml) ©Kozea 2012-2016 on 2021-11-23--><!--http://pygal.org--><!--http://github.com/Kozea/pygal--><defs><style type=\"text/css\">#chart-3aebec30-3f27-49ad-a341-4d2149da1d7e{-webkit-user-select:none;-webkit-font-smoothing:antialiased;font-family:Consolas,&quot;Liberation Mono&quot;,Menlo,Courier,monospace}#chart-3aebec30-3f27-49ad-a341-4d2149da1d7e .title{font-family:Consolas,&quot;Liberation Mono&quot;,Menlo,Courier,monospace;font-size:16px}#chart-3aebec30-3f27-49ad-a341-4d2149da1d7e .legends .legend text{font-family:Consolas,&quot;Liberation Mono&quot;,Menlo,Courier,monospace;font-size:14px}#chart-3aebec30-3f27-49ad-a341-4d2149da1d7e .axis text{font-family:Consolas,&quot;Liberation Mono&quot;,Menlo,Courier,monospace;font-size:10px}#chart-3aebec30-3f27-49ad-a341-4d2149da1d7e .axis text.major{font-family:Consolas,&quot;Liberation Mono&quot;,Menlo,Courier,monospace;font-size:10px}#chart-3aebec30-3f27-49ad-a341-4d2149da1d7e .text-overlay text.value{font-family:Consolas,&quot;Liberation Mono&quot;,Menlo,Courier,monospace;font-size:16px}#chart-3aebec30-3f27-49ad-a341-4d2149da1d7e .text-overlay text.label{font-family:Consolas,&quot;Liberation Mono&quot;,Menlo,Courier,monospace;font-size:10px}#chart-3aebec30-3f27-49ad-a341-4d2149da1d7e .tooltip{font-family:Consolas,&quot;Liberation Mono&quot;,Menlo,Courier,monospace;font-size:14px}#chart-3aebec30-3f27-49ad-a341-4d2149da1d7e text.no_data{font-family:Consolas,&quot;Liberation Mono&quot;,Menlo,Courier,monospace;font-size:64px}\n",
       "#chart-3aebec30-3f27-49ad-a341-4d2149da1d7e{background-color:rgba(249,249,249,1)}#chart-3aebec30-3f27-49ad-a341-4d2149da1d7e path,#chart-3aebec30-3f27-49ad-a341-4d2149da1d7e line,#chart-3aebec30-3f27-49ad-a341-4d2149da1d7e rect,#chart-3aebec30-3f27-49ad-a341-4d2149da1d7e circle{-webkit-transition:150ms;-moz-transition:150ms;transition:150ms}#chart-3aebec30-3f27-49ad-a341-4d2149da1d7e .graph &gt; .background{fill:rgba(249,249,249,1)}#chart-3aebec30-3f27-49ad-a341-4d2149da1d7e .plot &gt; .background{fill:rgba(255,255,255,1)}#chart-3aebec30-3f27-49ad-a341-4d2149da1d7e .graph{fill:rgba(0,0,0,.87)}#chart-3aebec30-3f27-49ad-a341-4d2149da1d7e text.no_data{fill:rgba(0,0,0,1)}#chart-3aebec30-3f27-49ad-a341-4d2149da1d7e .title{fill:rgba(0,0,0,1)}#chart-3aebec30-3f27-49ad-a341-4d2149da1d7e .legends .legend text{fill:rgba(0,0,0,.87)}#chart-3aebec30-3f27-49ad-a341-4d2149da1d7e .legends .legend:hover text{fill:rgba(0,0,0,1)}#chart-3aebec30-3f27-49ad-a341-4d2149da1d7e .axis .line{stroke:rgba(0,0,0,1)}#chart-3aebec30-3f27-49ad-a341-4d2149da1d7e .axis .guide.line{stroke:rgba(0,0,0,.54)}#chart-3aebec30-3f27-49ad-a341-4d2149da1d7e .axis .major.line{stroke:rgba(0,0,0,.87)}#chart-3aebec30-3f27-49ad-a341-4d2149da1d7e .axis text.major{fill:rgba(0,0,0,1)}#chart-3aebec30-3f27-49ad-a341-4d2149da1d7e .axis.y .guides:hover .guide.line,#chart-3aebec30-3f27-49ad-a341-4d2149da1d7e .line-graph .axis.x .guides:hover .guide.line,#chart-3aebec30-3f27-49ad-a341-4d2149da1d7e .stackedline-graph .axis.x .guides:hover .guide.line,#chart-3aebec30-3f27-49ad-a341-4d2149da1d7e .xy-graph .axis.x .guides:hover .guide.line{stroke:rgba(0,0,0,1)}#chart-3aebec30-3f27-49ad-a341-4d2149da1d7e .axis .guides:hover text{fill:rgba(0,0,0,1)}#chart-3aebec30-3f27-49ad-a341-4d2149da1d7e .reactive{fill-opacity:.7;stroke-opacity:.8}#chart-3aebec30-3f27-49ad-a341-4d2149da1d7e .ci{stroke:rgba(0,0,0,.87)}#chart-3aebec30-3f27-49ad-a341-4d2149da1d7e .reactive.active,#chart-3aebec30-3f27-49ad-a341-4d2149da1d7e .active .reactive{fill-opacity:.8;stroke-opacity:.9;stroke-width:4}#chart-3aebec30-3f27-49ad-a341-4d2149da1d7e .ci .reactive.active{stroke-width:1.5}#chart-3aebec30-3f27-49ad-a341-4d2149da1d7e .series text{fill:rgba(0,0,0,1)}#chart-3aebec30-3f27-49ad-a341-4d2149da1d7e .tooltip rect{fill:rgba(255,255,255,1);stroke:rgba(0,0,0,1);-webkit-transition:opacity 150ms;-moz-transition:opacity 150ms;transition:opacity 150ms}#chart-3aebec30-3f27-49ad-a341-4d2149da1d7e .tooltip .label{fill:rgba(0,0,0,.87)}#chart-3aebec30-3f27-49ad-a341-4d2149da1d7e .tooltip .label{fill:rgba(0,0,0,.87)}#chart-3aebec30-3f27-49ad-a341-4d2149da1d7e .tooltip .legend{font-size:.8em;fill:rgba(0,0,0,.54)}#chart-3aebec30-3f27-49ad-a341-4d2149da1d7e .tooltip .x_label{font-size:.6em;fill:rgba(0,0,0,1)}#chart-3aebec30-3f27-49ad-a341-4d2149da1d7e .tooltip .xlink{font-size:.5em;text-decoration:underline}#chart-3aebec30-3f27-49ad-a341-4d2149da1d7e .tooltip .value{font-size:1.5em}#chart-3aebec30-3f27-49ad-a341-4d2149da1d7e .bound{font-size:.5em}#chart-3aebec30-3f27-49ad-a341-4d2149da1d7e .max-value{font-size:.75em;fill:rgba(0,0,0,.54)}#chart-3aebec30-3f27-49ad-a341-4d2149da1d7e .map-element{fill:rgba(255,255,255,1);stroke:rgba(0,0,0,.54) !important}#chart-3aebec30-3f27-49ad-a341-4d2149da1d7e .map-element .reactive{fill-opacity:inherit;stroke-opacity:inherit}#chart-3aebec30-3f27-49ad-a341-4d2149da1d7e .color-0,#chart-3aebec30-3f27-49ad-a341-4d2149da1d7e .color-0 a:visited{stroke:#F44336;fill:#F44336}#chart-3aebec30-3f27-49ad-a341-4d2149da1d7e .color-1,#chart-3aebec30-3f27-49ad-a341-4d2149da1d7e .color-1 a:visited{stroke:#3F51B5;fill:#3F51B5}#chart-3aebec30-3f27-49ad-a341-4d2149da1d7e .color-2,#chart-3aebec30-3f27-49ad-a341-4d2149da1d7e .color-2 a:visited{stroke:#009688;fill:#009688}#chart-3aebec30-3f27-49ad-a341-4d2149da1d7e .text-overlay .color-0 text{fill:black}#chart-3aebec30-3f27-49ad-a341-4d2149da1d7e .text-overlay .color-1 text{fill:black}#chart-3aebec30-3f27-49ad-a341-4d2149da1d7e .text-overlay .color-2 text{fill:black}\n",
       "#chart-3aebec30-3f27-49ad-a341-4d2149da1d7e text.no_data{text-anchor:middle}#chart-3aebec30-3f27-49ad-a341-4d2149da1d7e .guide.line{fill:none}#chart-3aebec30-3f27-49ad-a341-4d2149da1d7e .centered{text-anchor:middle}#chart-3aebec30-3f27-49ad-a341-4d2149da1d7e .title{text-anchor:middle}#chart-3aebec30-3f27-49ad-a341-4d2149da1d7e .legends .legend text{fill-opacity:1}#chart-3aebec30-3f27-49ad-a341-4d2149da1d7e .axis.x text{text-anchor:middle}#chart-3aebec30-3f27-49ad-a341-4d2149da1d7e .axis.x:not(.web) text[transform]{text-anchor:start}#chart-3aebec30-3f27-49ad-a341-4d2149da1d7e .axis.x:not(.web) text[transform].backwards{text-anchor:end}#chart-3aebec30-3f27-49ad-a341-4d2149da1d7e .axis.y text{text-anchor:end}#chart-3aebec30-3f27-49ad-a341-4d2149da1d7e .axis.y text[transform].backwards{text-anchor:start}#chart-3aebec30-3f27-49ad-a341-4d2149da1d7e .axis.y2 text{text-anchor:start}#chart-3aebec30-3f27-49ad-a341-4d2149da1d7e .axis.y2 text[transform].backwards{text-anchor:end}#chart-3aebec30-3f27-49ad-a341-4d2149da1d7e .axis .guide.line{stroke-dasharray:4,4}#chart-3aebec30-3f27-49ad-a341-4d2149da1d7e .axis .major.guide.line{stroke-dasharray:6,6}#chart-3aebec30-3f27-49ad-a341-4d2149da1d7e .horizontal .axis.y .guide.line,#chart-3aebec30-3f27-49ad-a341-4d2149da1d7e .horizontal .axis.y2 .guide.line,#chart-3aebec30-3f27-49ad-a341-4d2149da1d7e .vertical .axis.x .guide.line{opacity:0}#chart-3aebec30-3f27-49ad-a341-4d2149da1d7e .horizontal .axis.always_show .guide.line,#chart-3aebec30-3f27-49ad-a341-4d2149da1d7e .vertical .axis.always_show .guide.line{opacity:1 !important}#chart-3aebec30-3f27-49ad-a341-4d2149da1d7e .axis.y .guides:hover .guide.line,#chart-3aebec30-3f27-49ad-a341-4d2149da1d7e .axis.y2 .guides:hover .guide.line,#chart-3aebec30-3f27-49ad-a341-4d2149da1d7e .axis.x .guides:hover .guide.line{opacity:1}#chart-3aebec30-3f27-49ad-a341-4d2149da1d7e .axis .guides:hover text{opacity:1}#chart-3aebec30-3f27-49ad-a341-4d2149da1d7e .nofill{fill:none}#chart-3aebec30-3f27-49ad-a341-4d2149da1d7e .subtle-fill{fill-opacity:.2}#chart-3aebec30-3f27-49ad-a341-4d2149da1d7e .dot{stroke-width:1px;fill-opacity:1}#chart-3aebec30-3f27-49ad-a341-4d2149da1d7e .dot.active{stroke-width:5px}#chart-3aebec30-3f27-49ad-a341-4d2149da1d7e .dot.negative{fill:transparent}#chart-3aebec30-3f27-49ad-a341-4d2149da1d7e text,#chart-3aebec30-3f27-49ad-a341-4d2149da1d7e tspan{stroke:none !important}#chart-3aebec30-3f27-49ad-a341-4d2149da1d7e .series text.active{opacity:1}#chart-3aebec30-3f27-49ad-a341-4d2149da1d7e .tooltip rect{fill-opacity:.95;stroke-width:.5}#chart-3aebec30-3f27-49ad-a341-4d2149da1d7e .tooltip text{fill-opacity:1}#chart-3aebec30-3f27-49ad-a341-4d2149da1d7e .showable{visibility:hidden}#chart-3aebec30-3f27-49ad-a341-4d2149da1d7e .showable.shown{visibility:visible}#chart-3aebec30-3f27-49ad-a341-4d2149da1d7e .gauge-background{fill:rgba(229,229,229,1);stroke:none}#chart-3aebec30-3f27-49ad-a341-4d2149da1d7e .bg-lines{stroke:rgba(249,249,249,1);stroke-width:2px}</style><script type=\"text/javascript\">window.pygal = window.pygal || {};window.pygal.config = window.pygal.config || {};window.pygal.config['3aebec30-3f27-49ad-a341-4d2149da1d7e'] = {&quot;allow_interruptions&quot;: false, &quot;box_mode&quot;: &quot;extremes&quot;, &quot;classes&quot;: [&quot;pygal-chart&quot;], &quot;css&quot;: [&quot;file://style.css&quot;, &quot;file://graph.css&quot;], &quot;defs&quot;: [], &quot;disable_xml_declaration&quot;: false, &quot;dots_size&quot;: 2.5, &quot;dynamic_print_values&quot;: false, &quot;explicit_size&quot;: false, &quot;fill&quot;: false, &quot;force_uri_protocol&quot;: &quot;https&quot;, &quot;formatter&quot;: null, &quot;half_pie&quot;: false, &quot;height&quot;: 600, &quot;include_x_axis&quot;: false, &quot;inner_radius&quot;: 0, &quot;interpolate&quot;: null, &quot;interpolation_parameters&quot;: {}, &quot;interpolation_precision&quot;: 250, &quot;inverse_y_axis&quot;: false, &quot;js&quot;: [&quot;//kozea.github.io/pygal.js/2.0.x/pygal-tooltips.min.js&quot;], &quot;legend_at_bottom&quot;: false, &quot;legend_at_bottom_columns&quot;: null, &quot;legend_box_size&quot;: 12, &quot;logarithmic&quot;: false, &quot;margin&quot;: 20, &quot;margin_bottom&quot;: null, &quot;margin_left&quot;: null, &quot;margin_right&quot;: null, &quot;margin_top&quot;: null, &quot;max_scale&quot;: 16, &quot;min_scale&quot;: 4, &quot;missing_value_fill_truncation&quot;: &quot;x&quot;, &quot;no_data_text&quot;: &quot;No data&quot;, &quot;no_prefix&quot;: false, &quot;order_min&quot;: null, &quot;pretty_print&quot;: false, &quot;print_labels&quot;: false, &quot;print_values&quot;: false, &quot;print_values_position&quot;: &quot;center&quot;, &quot;print_zeroes&quot;: true, &quot;range&quot;: null, &quot;rounded_bars&quot;: null, &quot;secondary_range&quot;: null, &quot;show_dots&quot;: true, &quot;show_legend&quot;: true, &quot;show_minor_x_labels&quot;: true, &quot;show_minor_y_labels&quot;: true, &quot;show_only_major_dots&quot;: false, &quot;show_x_guides&quot;: true, &quot;show_x_labels&quot;: true, &quot;show_y_guides&quot;: false, &quot;show_y_labels&quot;: true, &quot;spacing&quot;: 10, &quot;stack_from_top&quot;: false, &quot;strict&quot;: false, &quot;stroke&quot;: true, &quot;stroke_style&quot;: null, &quot;style&quot;: {&quot;background&quot;: &quot;rgba(249, 249, 249, 1)&quot;, &quot;ci_colors&quot;: [], &quot;colors&quot;: [&quot;#F44336&quot;, &quot;#3F51B5&quot;, &quot;#009688&quot;, &quot;#FFC107&quot;, &quot;#FF5722&quot;, &quot;#9C27B0&quot;, &quot;#03A9F4&quot;, &quot;#8BC34A&quot;, &quot;#FF9800&quot;, &quot;#E91E63&quot;, &quot;#2196F3&quot;, &quot;#4CAF50&quot;, &quot;#FFEB3B&quot;, &quot;#673AB7&quot;, &quot;#00BCD4&quot;, &quot;#CDDC39&quot;, &quot;#9E9E9E&quot;, &quot;#607D8B&quot;], &quot;font_family&quot;: &quot;Consolas, \\&quot;Liberation Mono\\&quot;, Menlo, Courier, monospace&quot;, &quot;foreground&quot;: &quot;rgba(0, 0, 0, .87)&quot;, &quot;foreground_strong&quot;: &quot;rgba(0, 0, 0, 1)&quot;, &quot;foreground_subtle&quot;: &quot;rgba(0, 0, 0, .54)&quot;, &quot;guide_stroke_dasharray&quot;: &quot;4,4&quot;, &quot;label_font_family&quot;: &quot;Consolas, \\&quot;Liberation Mono\\&quot;, Menlo, Courier, monospace&quot;, &quot;label_font_size&quot;: 10, &quot;legend_font_family&quot;: &quot;Consolas, \\&quot;Liberation Mono\\&quot;, Menlo, Courier, monospace&quot;, &quot;legend_font_size&quot;: 14, &quot;major_guide_stroke_dasharray&quot;: &quot;6,6&quot;, &quot;major_label_font_family&quot;: &quot;Consolas, \\&quot;Liberation Mono\\&quot;, Menlo, Courier, monospace&quot;, &quot;major_label_font_size&quot;: 10, &quot;no_data_font_family&quot;: &quot;Consolas, \\&quot;Liberation Mono\\&quot;, Menlo, Courier, monospace&quot;, &quot;no_data_font_size&quot;: 64, &quot;opacity&quot;: &quot;.7&quot;, &quot;opacity_hover&quot;: &quot;.8&quot;, &quot;plot_background&quot;: &quot;rgba(255, 255, 255, 1)&quot;, &quot;stroke_opacity&quot;: &quot;.8&quot;, &quot;stroke_opacity_hover&quot;: &quot;.9&quot;, &quot;title_font_family&quot;: &quot;Consolas, \\&quot;Liberation Mono\\&quot;, Menlo, Courier, monospace&quot;, &quot;title_font_size&quot;: 16, &quot;tooltip_font_family&quot;: &quot;Consolas, \\&quot;Liberation Mono\\&quot;, Menlo, Courier, monospace&quot;, &quot;tooltip_font_size&quot;: 14, &quot;transition&quot;: &quot;150ms&quot;, &quot;value_background&quot;: &quot;rgba(229, 229, 229, 1)&quot;, &quot;value_colors&quot;: [], &quot;value_font_family&quot;: &quot;Consolas, \\&quot;Liberation Mono\\&quot;, Menlo, Courier, monospace&quot;, &quot;value_font_size&quot;: 16, &quot;value_label_font_family&quot;: &quot;Consolas, \\&quot;Liberation Mono\\&quot;, Menlo, Courier, monospace&quot;, &quot;value_label_font_size&quot;: 10}, &quot;title&quot;: &quot;Long, medium, and short routes&quot;, &quot;tooltip_border_radius&quot;: 0, &quot;tooltip_fancy_mode&quot;: true, &quot;truncate_label&quot;: null, &quot;truncate_legend&quot;: null, &quot;width&quot;: 800, &quot;x_label_rotation&quot;: 0, &quot;x_labels&quot;: null, &quot;x_labels_major&quot;: null, &quot;x_labels_major_count&quot;: null, &quot;x_labels_major_every&quot;: null, &quot;x_title&quot;: null, &quot;xrange&quot;: null, &quot;y_label_rotation&quot;: 0, &quot;y_labels&quot;: null, &quot;y_labels_major&quot;: null, &quot;y_labels_major_count&quot;: null, &quot;y_labels_major_every&quot;: null, &quot;y_title&quot;: null, &quot;zero&quot;: 0, &quot;legends&quot;: [&quot;Long&quot;, &quot;Medium&quot;, &quot;Short&quot;]}</script><script type=\"text/javascript\" xlink:href=\"https://kozea.github.io/pygal.js/2.0.x/pygal-tooltips.min.js\"/></defs><title>Long, medium, and short routes</title><g class=\"graph horizontalbar-graph horizontal\"><rect x=\"0\" y=\"0\" width=\"800\" height=\"600\" class=\"background\"/><g transform=\"translate(92, 46)\" class=\"plot\"><rect x=\"0\" y=\"0\" width=\"687.6\" height=\"514\" class=\"background\"/><g class=\"axis x always_show\"><g class=\"guides\"><path d=\"M13.223077 0.000000 v514.000000\" class=\"axis major line\"/><text x=\"13.223076923076924\" y=\"529.0\" class=\"major\">0</text></g><g class=\"guides\"><path d=\"M104.337023 0.000000 v514.000000\" class=\"guide line\"/><text x=\"104.337023303664\" y=\"529.0\" class=\"\">10</text></g><g class=\"guides\"><path d=\"M195.450970 0.000000 v514.000000\" class=\"guide line\"/><text x=\"195.45096968425108\" y=\"529.0\" class=\"\">20</text></g><g class=\"guides\"><path d=\"M286.564916 0.000000 v514.000000\" class=\"guide line\"/><text x=\"286.5649160648381\" y=\"529.0\" class=\"\">30</text></g><g class=\"guides\"><path d=\"M377.678862 0.000000 v514.000000\" class=\"guide line\"/><text x=\"377.6788624454252\" y=\"529.0\" class=\"\">40</text></g><g class=\"guides\"><path d=\"M468.792809 0.000000 v514.000000\" class=\"major guide line\"/><text x=\"468.79280882601216\" y=\"529.0\" class=\"major\">50</text></g><g class=\"guides\"><path d=\"M559.906755 0.000000 v514.000000\" class=\"guide line\"/><text x=\"559.9067552065992\" y=\"529.0\" class=\"\">60</text></g><g class=\"guides\"><path d=\"M651.020702 0.000000 v514.000000\" class=\"guide line\"/><text x=\"651.0207015871864\" y=\"529.0\" class=\"\">70</text></g></g><g class=\"series serie-2 color-2\"><g class=\"bars\"><g class=\"bar\"><rect x=\"13.223076923076974\" y=\"338.1856410256411\" rx=\"0\" ry=\"0\" width=\"661.1538461538461\" height=\"127.5774358974359\" class=\"rect reactive tooltip-trigger\"/><desc class=\"value\">72.56340795</desc><desc class=\"x centered\">343.8</desc><desc class=\"y centered\">401.97435897435906</desc></g></g></g><g class=\"series serie-1 color-1\"><g class=\"bars\"><g class=\"bar\"><rect x=\"13.223076923076917\" y=\"193.21128205128213\" rx=\"0\" ry=\"0\" width=\"241.4009653450896\" height=\"127.5774358974359\" class=\"rect reactive tooltip-trigger\"/><desc class=\"value\">26.49440343</desc><desc class=\"x centered\">133.92355959562173</desc><desc class=\"y centered\">257.0000000000001</desc></g></g></g><g class=\"series serie-0 color-0\"><g class=\"bars\"><g class=\"bar\"><rect x=\"13.223076923076924\" y=\"48.236923076923105\" rx=\"0\" ry=\"0\" width=\"8.584652306934924\" height=\"127.5774358974359\" class=\"rect reactive tooltip-trigger\"/><desc class=\"value\">0.9421886163</desc><desc class=\"x centered\">17.515403076544388</desc><desc class=\"y centered\">112.02564102564105</desc></g></g></g></g><g class=\"titles\"><text x=\"400.0\" y=\"26\" class=\"title plot_title\">Long, medium, and short routes</text></g><g transform=\"translate(92, 46)\" class=\"plot overlay\"><g class=\"series serie-2 color-2\"/><g class=\"series serie-1 color-1\"/><g class=\"series serie-0 color-0\"/></g><g transform=\"translate(92, 46)\" class=\"plot text-overlay\"><g class=\"series serie-2 color-2\"/><g class=\"series serie-1 color-1\"/><g class=\"series serie-0 color-0\"/></g><g transform=\"translate(92, 46)\" class=\"plot tooltip-overlay\"><g transform=\"translate(0 0)\" style=\"opacity: 0\" class=\"tooltip\"><rect rx=\"0\" ry=\"0\" width=\"0\" height=\"0\" class=\"tooltip-box\"/><g class=\"text\"/></g></g><g transform=\"translate(10, 56)\" class=\"legends\"><g id=\"activate-serie-0\" class=\"legend reactive activate-serie\"><rect x=\"0.0\" y=\"1.0\" width=\"12\" height=\"12\" class=\"color-0 reactive\"/><text x=\"17.0\" y=\"11.2\">Long</text></g><g id=\"activate-serie-1\" class=\"legend reactive activate-serie\"><rect x=\"0.0\" y=\"22.0\" width=\"12\" height=\"12\" class=\"color-1 reactive\"/><text x=\"17.0\" y=\"32.2\">Medium</text></g><g id=\"activate-serie-2\" class=\"legend reactive activate-serie\"><rect x=\"0.0\" y=\"43.0\" width=\"12\" height=\"12\" class=\"color-2 reactive\"/><text x=\"17.0\" y=\"53.2\">Short</text></g></g><g transform=\"translate(790, 56)\" class=\"legends\"/></g></svg>"
      ],
      "text/plain": [
       "<IPython.core.display.SVG object>"
      ]
     },
     "execution_count": 37,
     "metadata": {},
     "output_type": "execute_result"
    }
   ],
   "source": [
    "import pygal\n",
    "from IPython.display import SVG\n",
    "chart = pygal.HorizontalBar()\n",
    "chart.title = 'Long, medium, and short routes'\n",
    "chart.add('Long', long_routes * 100)\n",
    "chart.add('Medium', medium_routes * 100)\n",
    "chart.add('Short', short_routes * 100)\n",
    "chart.render_to_file('routes.svg')\n",
    "SVG(filename='routes.svg')"
   ]
  },
  {
   "cell_type": "code",
   "execution_count": 38,
   "metadata": {},
   "outputs": [
    {
     "data": {
      "text/plain": [
       "<matplotlib.collections.PathCollection at 0x226f684c4f0>"
      ]
     },
     "execution_count": 38,
     "metadata": {},
     "output_type": "execute_result"
    },
    {
     "data": {
      "image/png": "[encoded data removed]",
      "text/plain": [
       "<Figure size 432x288 with 1 Axes>"
      ]
     },
     "metadata": {
      "needs_background": "light"
     },
     "output_type": "display_data"
    }
   ],
   "source": [
    "name_lengths = airlines[\"name\"].apply(lambda x: len(str(x)))\n",
    "plt.scatter(airlines[\"id\"].astype(int), name_lengths)"
   ]
  },
  {
   "cell_type": "code",
   "execution_count": 39,
   "metadata": {},
   "outputs": [
    {
     "data": {
      "text/plain": [
       "<seaborn.axisgrid.JointGrid at 0x226f6888f40>"
      ]
     },
     "execution_count": 39,
     "metadata": {},
     "output_type": "execute_result"
    },
    {
     "data": {
      "image/png": "[encoded data removed]",
      "text/plain": [
       "<Figure size 432x432 with 3 Axes>"
      ]
     },
     "metadata": {
      "needs_background": "light"
     },
     "output_type": "display_data"
    }
   ],
   "source": [
    "data = pandas.DataFrame({\"lengths\": name_lengths, \"ids\": airlines[\"id\"].astype(int)})\n",
    "seaborn.jointplot(x=\"ids\", y=\"lengths\", data=data)"
   ]
  },
  {
   "cell_type": "code",
   "execution_count": 41,
   "metadata": {},
   "outputs": [
    {
     "name": "stdout",
     "output_type": "stream",
     "text": [
      "Collecting https://github.com/matplotlib/basemap/archive/master.zipNote: you may need to restart the kernel to use updated packages.\n"
     ]
    },
    {
     "name": "stderr",
     "output_type": "stream",
     "text": [
      "    ERROR: Command errored out with exit status 1:\n",
      "     command: 'D:\\Anaconda\\python.exe' -c 'import sys, setuptools, tokenize; sys.argv[0] = '\"'\"'C:\\\\Users\\\\aryam\\\\AppData\\\\Local\\\\Temp\\\\pip-req-build-xroz6nr1\\\\setup.py'\"'\"'; __file__='\"'\"'C:\\\\Users\\\\aryam\\\\AppData\\\\Local\\\\Temp\\\\pip-req-build-xroz6nr1\\\\setup.py'\"'\"';f=getattr(tokenize, '\"'\"'open'\"'\"', open)(__file__);code=f.read().replace('\"'\"'\\r\\n'\"'\"', '\"'\"'\\n'\"'\"');f.close();exec(compile(code, __file__, '\"'\"'exec'\"'\"'))' egg_info --egg-base 'C:\\Users\\aryam\\AppData\\Local\\Temp\\pip-pip-egg-info-8epo4w6o'\n",
      "         cwd: C:\\Users\\aryam\\AppData\\Local\\Temp\\pip-req-build-xroz6nr1\\\n",
      "    Complete output (18 lines):\n",
      "    checking for GEOS lib in C:\\Users\\aryam ....\n",
      "    checking for GEOS lib in C:\\Users\\aryam\\local ....\n",
      "    checking for GEOS lib in /usr ....\n",
      "    checking for GEOS lib in /usr/local ....\n",
      "    checking for GEOS lib in /sw ....\n",
      "    checking for GEOS lib in /opt ....\n",
      "    checking for GEOS lib in /opt/local ....\n",
      "    \n",
      "    Can't find geos library in standard locations ('C:\\Users\\aryam', 'C:\\Users\\aryam\\local', '/usr', '/usr/local', '/sw', '/opt', '/opt/local').\n",
      "    Please install the corresponding packages using your\n",
      "    systems software management system (e.g. for Debian Linux do:\n",
      "    'apt-get install libgeos-3.3.3 libgeos-c1 libgeos-dev' and/or\n",
      "    set the environment variable GEOS_DIR to point to the location\n"
     ]
    },
    {
     "name": "stdout",
     "output_type": "stream",
     "text": [
      "\n",
      "  Downloading https://github.com/matplotlib/basemap/archive/master.zip (133.1 MB)\n"
     ]
    },
    {
     "name": "stderr",
     "output_type": "stream",
     "text": [
      "    where geos is installed (for example, if geos_c.h\n",
      "    is in /usr/local/include, and libgeos_c is in /usr/local/lib,\n",
      "    set GEOS_DIR to /usr/local), or edit the setup.py script\n",
      "    manually and set the variable GEOS_dir (right after the line\n",
      "    that says \"set GEOS_dir manually here\".\n",
      "    ----------------------------------------\n",
      "WARNING: Discarding https://github.com/matplotlib/basemap/archive/master.zip. Command errored out with exit status 1: python setup.py egg_info Check the logs for full command output.\n",
      "ERROR: Command errored out with exit status 1: python setup.py egg_info Check the logs for full command output.\n"
     ]
    }
   ],
   "source": [
    "pip install https://github.com/matplotlib/basemap/archive/master.zip"
   ]
  },
  {
   "cell_type": "code",
   "execution_count": 42,
   "metadata": {},
   "outputs": [
    {
     "ename": "ModuleNotFoundError",
     "evalue": "No module named 'mpl_toolkits.basemap'",
     "output_type": "error",
     "traceback": [
      "\u001b[1;31m---------------------------------------------------------------------------\u001b[0m",
      "\u001b[1;31mModuleNotFoundError\u001b[0m                       Traceback (most recent call last)",
      "\u001b[1;32m<ipython-input-42-f540b3ccc04e>\u001b[0m in \u001b[0;36m<module>\u001b[1;34m\u001b[0m\n\u001b[0;32m      1\u001b[0m \u001b[1;31m# Import the basemap package\u001b[0m\u001b[1;33m\u001b[0m\u001b[1;33m\u001b[0m\u001b[1;33m\u001b[0m\u001b[0m\n\u001b[1;32m----> 2\u001b[1;33m \u001b[1;32mfrom\u001b[0m \u001b[0mmpl_toolkits\u001b[0m\u001b[1;33m.\u001b[0m\u001b[0mbasemap\u001b[0m \u001b[1;32mimport\u001b[0m \u001b[0mBasemap\u001b[0m\u001b[1;33m\u001b[0m\u001b[1;33m\u001b[0m\u001b[0m\n\u001b[0m\u001b[0;32m      3\u001b[0m \u001b[1;31m# Create a map on which to draw.  We're using a mercator projection, and showing the whole world.\u001b[0m\u001b[1;33m\u001b[0m\u001b[1;33m\u001b[0m\u001b[1;33m\u001b[0m\u001b[0m\n\u001b[0;32m      4\u001b[0m \u001b[0mm\u001b[0m \u001b[1;33m=\u001b[0m \u001b[0mBasemap\u001b[0m\u001b[1;33m(\u001b[0m\u001b[0mprojection\u001b[0m\u001b[1;33m=\u001b[0m\u001b[1;34m'merc'\u001b[0m\u001b[1;33m,\u001b[0m\u001b[0mllcrnrlat\u001b[0m\u001b[1;33m=\u001b[0m\u001b[1;33m-\u001b[0m\u001b[1;36m80\u001b[0m\u001b[1;33m,\u001b[0m\u001b[0murcrnrlat\u001b[0m\u001b[1;33m=\u001b[0m\u001b[1;36m80\u001b[0m\u001b[1;33m,\u001b[0m\u001b[0mllcrnrlon\u001b[0m\u001b[1;33m=\u001b[0m\u001b[1;33m-\u001b[0m\u001b[1;36m180\u001b[0m\u001b[1;33m,\u001b[0m\u001b[0murcrnrlon\u001b[0m\u001b[1;33m=\u001b[0m\u001b[1;36m180\u001b[0m\u001b[1;33m,\u001b[0m\u001b[0mlat_ts\u001b[0m\u001b[1;33m=\u001b[0m\u001b[1;36m20\u001b[0m\u001b[1;33m,\u001b[0m\u001b[0mresolution\u001b[0m\u001b[1;33m=\u001b[0m\u001b[1;34m'c'\u001b[0m\u001b[1;33m)\u001b[0m\u001b[1;33m\u001b[0m\u001b[1;33m\u001b[0m\u001b[0m\n\u001b[0;32m      5\u001b[0m \u001b[1;31m# Draw coastlines, and the edges of the map.\u001b[0m\u001b[1;33m\u001b[0m\u001b[1;33m\u001b[0m\u001b[1;33m\u001b[0m\u001b[0m\n",
      "\u001b[1;31mModuleNotFoundError\u001b[0m: No module named 'mpl_toolkits.basemap'"
     ]
    }
   ],
   "source": [
    "# Import the basemap package\n",
    "from mpl_toolkits.basemap import Basemap\n",
    "# Create a map on which to draw.  We're using a mercator projection, and showing the whole world.\n",
    "m = Basemap(projection='merc',llcrnrlat=-80,urcrnrlat=80,llcrnrlon=-180,urcrnrlon=180,lat_ts=20,resolution='c')\n",
    "# Draw coastlines, and the edges of the map.\n",
    "m.drawcoastlines()\n",
    "m.drawmapboundary()\n",
    "# Convert latitude and longitude to x and y coordinatesx, y = m(list(airports[\"longitude\"].astype(float)), list(airports[\"latitude\"].astype(float)))\n",
    "# Use matplotlib to draw the points onto the map.\n",
    "m.scatter(x,y,1,marker='o',color='red')\n",
    "# Show the plot.\n",
    "plt.show()"
   ]
  },
  {
   "cell_type": "code",
   "execution_count": 43,
   "metadata": {},
   "outputs": [
    {
     "ename": "ModuleNotFoundError",
     "evalue": "No module named 'folium'",
     "output_type": "error",
     "traceback": [
      "\u001b[1;31m---------------------------------------------------------------------------\u001b[0m",
      "\u001b[1;31mModuleNotFoundError\u001b[0m                       Traceback (most recent call last)",
      "\u001b[1;32m<ipython-input-43-136e985d85f5>\u001b[0m in \u001b[0;36m<module>\u001b[1;34m\u001b[0m\n\u001b[1;32m----> 1\u001b[1;33m \u001b[1;32mimport\u001b[0m \u001b[0mfolium\u001b[0m\u001b[1;33m\u001b[0m\u001b[1;33m\u001b[0m\u001b[0m\n\u001b[0m\u001b[0;32m      2\u001b[0m \u001b[1;31m# Get a basic world map.\u001b[0m\u001b[1;33m\u001b[0m\u001b[1;33m\u001b[0m\u001b[1;33m\u001b[0m\u001b[0m\n\u001b[0;32m      3\u001b[0m \u001b[0mairports_map\u001b[0m \u001b[1;33m=\u001b[0m \u001b[0mfolium\u001b[0m\u001b[1;33m.\u001b[0m\u001b[0mMap\u001b[0m\u001b[1;33m(\u001b[0m\u001b[0mlocation\u001b[0m\u001b[1;33m=\u001b[0m\u001b[1;33m[\u001b[0m\u001b[1;36m30\u001b[0m\u001b[1;33m,\u001b[0m \u001b[1;36m0\u001b[0m\u001b[1;33m]\u001b[0m\u001b[1;33m,\u001b[0m \u001b[0mzoom_start\u001b[0m\u001b[1;33m=\u001b[0m\u001b[1;36m2\u001b[0m\u001b[1;33m)\u001b[0m\u001b[1;33m\u001b[0m\u001b[1;33m\u001b[0m\u001b[0m\n\u001b[0;32m      4\u001b[0m \u001b[1;31m# Draw markers on the map.\u001b[0m\u001b[1;33m\u001b[0m\u001b[1;33m\u001b[0m\u001b[1;33m\u001b[0m\u001b[0m\n\u001b[0;32m      5\u001b[0m \u001b[1;32mfor\u001b[0m \u001b[0mname\u001b[0m\u001b[1;33m,\u001b[0m \u001b[0mrow\u001b[0m \u001b[1;32min\u001b[0m \u001b[0mairports\u001b[0m\u001b[1;33m.\u001b[0m\u001b[0miterrows\u001b[0m\u001b[1;33m(\u001b[0m\u001b[1;33m)\u001b[0m\u001b[1;33m:\u001b[0m\u001b[1;33m\u001b[0m\u001b[1;33m\u001b[0m\u001b[0m\n",
      "\u001b[1;31mModuleNotFoundError\u001b[0m: No module named 'folium'"
     ]
    }
   ],
   "source": [
    "import folium\n",
    "# Get a basic world map.\n",
    "airports_map = folium.Map(location=[30, 0], zoom_start=2)\n",
    "# Draw markers on the map.\n",
    "for name, row in airports.iterrows():\n",
    "    # For some reason, this one airport causes issues with the map.\n",
    "    if row[\"name\"] != \"South Pole Station\":\n",
    "        airports_map.circle_marker(location=[row[\"latitude\"], row[\"longitude\"]], popup=row[\"name\"])\n",
    "# Create and show the map.airports_map.create_map('airports.html')\n",
    "airports_map"
   ]
  },
  {
   "cell_type": "code",
   "execution_count": 44,
   "metadata": {},
   "outputs": [
    {
     "ename": "NameError",
     "evalue": "name 'Basemap' is not defined",
     "output_type": "error",
     "traceback": [
      "\u001b[1;31m---------------------------------------------------------------------------\u001b[0m",
      "\u001b[1;31mNameError\u001b[0m                                 Traceback (most recent call last)",
      "\u001b[1;32m<ipython-input-44-c66ae5eaaf57>\u001b[0m in \u001b[0;36m<module>\u001b[1;34m\u001b[0m\n\u001b[0;32m      1\u001b[0m \u001b[1;31m# Make a base map with a mercator projection.\u001b[0m\u001b[1;33m\u001b[0m\u001b[1;33m\u001b[0m\u001b[1;33m\u001b[0m\u001b[0m\n\u001b[0;32m      2\u001b[0m \u001b[1;31m# Draw the coastlines.\u001b[0m\u001b[1;33m\u001b[0m\u001b[1;33m\u001b[0m\u001b[1;33m\u001b[0m\u001b[0m\n\u001b[1;32m----> 3\u001b[1;33m \u001b[0mm\u001b[0m \u001b[1;33m=\u001b[0m \u001b[0mBasemap\u001b[0m\u001b[1;33m(\u001b[0m\u001b[0mprojection\u001b[0m\u001b[1;33m=\u001b[0m\u001b[1;34m'merc'\u001b[0m\u001b[1;33m,\u001b[0m\u001b[0mllcrnrlat\u001b[0m\u001b[1;33m=\u001b[0m\u001b[1;33m-\u001b[0m\u001b[1;36m80\u001b[0m\u001b[1;33m,\u001b[0m\u001b[0murcrnrlat\u001b[0m\u001b[1;33m=\u001b[0m\u001b[1;36m80\u001b[0m\u001b[1;33m,\u001b[0m\u001b[0mllcrnrlon\u001b[0m\u001b[1;33m=\u001b[0m\u001b[1;33m-\u001b[0m\u001b[1;36m180\u001b[0m\u001b[1;33m,\u001b[0m\u001b[0murcrnrlon\u001b[0m\u001b[1;33m=\u001b[0m\u001b[1;36m180\u001b[0m\u001b[1;33m,\u001b[0m\u001b[0mlat_ts\u001b[0m\u001b[1;33m=\u001b[0m\u001b[1;36m20\u001b[0m\u001b[1;33m,\u001b[0m\u001b[0mresolution\u001b[0m\u001b[1;33m=\u001b[0m\u001b[1;34m'c'\u001b[0m\u001b[1;33m)\u001b[0m\u001b[1;33m\u001b[0m\u001b[1;33m\u001b[0m\u001b[0m\n\u001b[0m\u001b[0;32m      4\u001b[0m \u001b[0mm\u001b[0m\u001b[1;33m.\u001b[0m\u001b[0mdrawcoastlines\u001b[0m\u001b[1;33m(\u001b[0m\u001b[1;33m)\u001b[0m\u001b[1;33m\u001b[0m\u001b[1;33m\u001b[0m\u001b[0m\n\u001b[0;32m      5\u001b[0m \u001b[1;31m# Iterate through the first 3000 rows.\u001b[0m\u001b[1;33m\u001b[0m\u001b[1;33m\u001b[0m\u001b[1;33m\u001b[0m\u001b[0m\n",
      "\u001b[1;31mNameError\u001b[0m: name 'Basemap' is not defined"
     ]
    }
   ],
   "source": [
    "# Make a base map with a mercator projection.\n",
    "# Draw the coastlines.\n",
    "m = Basemap(projection='merc',llcrnrlat=-80,urcrnrlat=80,llcrnrlon=-180,urcrnrlon=180,lat_ts=20,resolution='c')\n",
    "m.drawcoastlines()\n",
    "# Iterate through the first 3000 rows.\n",
    "for name, row in routes[:3000].iterrows():\n",
    "    try:\n",
    "        # Get the source and dest airports.\n",
    "        source = airports[airports[\"id\"] == row[\"source_id\"]].iloc[0]\n",
    "        dest = airports[airports[\"id\"] == row[\"dest_id\"]].iloc[0]\n",
    "        # Don't draw overly long routes.\n",
    "        if abs(float(source[\"longitude\"]) - float(dest[\"longitude\"])) < 90:\n",
    "            # Draw a great circle between source and dest airports.\n",
    "            m.drawgreatcircle(float(source[\"longitude\"]), float(source[\"latitude\"]), float(dest[\"longitude\"]), float(dest[\"latitude\"]),linewidth=1,color='b')\n",
    "    except (ValueError, IndexError):\n",
    "        pass\n",
    "    # Show the map.\n",
    "plt.show()"
   ]
  },
  {
   "cell_type": "code",
   "execution_count": 45,
   "metadata": {},
   "outputs": [
    {
     "ename": "NameError",
     "evalue": "name 'added_keys' is not defined",
     "output_type": "error",
     "traceback": [
      "\u001b[1;31m---------------------------------------------------------------------------\u001b[0m",
      "\u001b[1;31mNameError\u001b[0m                                 Traceback (most recent call last)",
      "\u001b[1;32m<ipython-input-45-e422fd61379c>\u001b[0m in \u001b[0;36m<module>\u001b[1;34m\u001b[0m\n\u001b[0;32m     14\u001b[0m         \u001b[0mweights\u001b[0m\u001b[1;33m[\u001b[0m\u001b[0mkey\u001b[0m\u001b[1;33m]\u001b[0m \u001b[1;33m+=\u001b[0m \u001b[1;36m1\u001b[0m\u001b[1;33m\u001b[0m\u001b[1;33m\u001b[0m\u001b[0m\n\u001b[0;32m     15\u001b[0m     \u001b[1;31m# If the key is in added keys, initialize the key in the weights dictionary, with a weight of 2.\u001b[0m\u001b[1;33m\u001b[0m\u001b[1;33m\u001b[0m\u001b[1;33m\u001b[0m\u001b[0m\n\u001b[1;32m---> 16\u001b[1;33m     \u001b[1;32melif\u001b[0m \u001b[0mkey\u001b[0m \u001b[1;32min\u001b[0m \u001b[0madded_keys\u001b[0m\u001b[1;33m:\u001b[0m\u001b[1;33m\u001b[0m\u001b[1;33m\u001b[0m\u001b[0m\n\u001b[0m\u001b[0;32m     17\u001b[0m         \u001b[0mweights\u001b[0m\u001b[1;33m[\u001b[0m\u001b[0mkey\u001b[0m\u001b[1;33m]\u001b[0m \u001b[1;33m=\u001b[0m \u001b[1;36m2\u001b[0m\u001b[1;33m\u001b[0m\u001b[1;33m\u001b[0m\u001b[0m\n\u001b[0;32m     18\u001b[0m     \u001b[1;31m# If the key isn't in added_keys yet, append it.\u001b[0m\u001b[1;33m\u001b[0m\u001b[1;33m\u001b[0m\u001b[1;33m\u001b[0m\u001b[0m\n",
      "\u001b[1;31mNameError\u001b[0m: name 'added_keys' is not defined"
     ]
    }
   ],
   "source": [
    "# Initialize the weights dictionary.\n",
    "weights = {}\n",
    "# Keep track of keys that have been added once -- we only want edges with a weight of more than 1 to keep our network size manageable.added_keys = []\n",
    "# Iterate through each route.\n",
    "for name, row in routes.iterrows():\n",
    "    # Extract the source and dest airport ids.\n",
    "    source = row[\"source_id\"]\n",
    "    dest = row[\"dest_id\"]\n",
    "        # Create a key for the weights dictionary.\n",
    "    # This corresponds to one edge, and has the start and end of the route.\n",
    "    key = \"{0}_{1}\".format(source, dest)\n",
    "    # If the key is already in weights, increment the weight.\n",
    "    if key in weights:\n",
    "        weights[key] += 1\n",
    "    # If the key is in added keys, initialize the key in the weights dictionary, with a weight of 2.\n",
    "    elif key in added_keys:\n",
    "        weights[key] = 2\n",
    "    # If the key isn't in added_keys yet, append it.\n",
    "    # This ensures that we aren't adding edges with a weight of 1.\n",
    "    else:\n",
    "        added_keys.append(key)"
   ]
  },
  {
   "cell_type": "code",
   "execution_count": 46,
   "metadata": {},
   "outputs": [
    {
     "ename": "NameError",
     "evalue": "name 'pos' is not defined",
     "output_type": "error",
     "traceback": [
      "\u001b[1;31m---------------------------------------------------------------------------\u001b[0m",
      "\u001b[1;31mNameError\u001b[0m                                 Traceback (most recent call last)",
      "\u001b[1;32m<ipython-input-46-81623d39db1d>\u001b[0m in \u001b[0;36m<module>\u001b[1;34m\u001b[0m\n\u001b[0;32m     25\u001b[0m         \u001b[0mpasspos\u001b[0m\u001b[1;33m=\u001b[0m\u001b[0mnx\u001b[0m\u001b[1;33m.\u001b[0m\u001b[0mspring_layout\u001b[0m\u001b[1;33m(\u001b[0m\u001b[0mgraph\u001b[0m\u001b[1;33m)\u001b[0m\u001b[1;33m\u001b[0m\u001b[1;33m\u001b[0m\u001b[0m\n\u001b[0;32m     26\u001b[0m \u001b[1;31m# Draw the nodes and edges.nx.draw_networkx_nodes(graph,pos, node_color='red', node_size=10, alpha=0.8)\u001b[0m\u001b[1;33m\u001b[0m\u001b[1;33m\u001b[0m\u001b[1;33m\u001b[0m\u001b[0m\n\u001b[1;32m---> 27\u001b[1;33m \u001b[0mnx\u001b[0m\u001b[1;33m.\u001b[0m\u001b[0mdraw_networkx_edges\u001b[0m\u001b[1;33m(\u001b[0m\u001b[0mgraph\u001b[0m\u001b[1;33m,\u001b[0m\u001b[0mpos\u001b[0m\u001b[1;33m,\u001b[0m\u001b[0mwidth\u001b[0m\u001b[1;33m=\u001b[0m\u001b[1;36m1.0\u001b[0m\u001b[1;33m,\u001b[0m\u001b[0malpha\u001b[0m\u001b[1;33m=\u001b[0m\u001b[1;36m1\u001b[0m\u001b[1;33m)\u001b[0m\u001b[1;33m\u001b[0m\u001b[1;33m\u001b[0m\u001b[0m\n\u001b[0m\u001b[0;32m     28\u001b[0m \u001b[1;31m# Show the plot.\u001b[0m\u001b[1;33m\u001b[0m\u001b[1;33m\u001b[0m\u001b[1;33m\u001b[0m\u001b[0m\n\u001b[0;32m     29\u001b[0m \u001b[0mplt\u001b[0m\u001b[1;33m.\u001b[0m\u001b[0mshow\u001b[0m\u001b[1;33m(\u001b[0m\u001b[1;33m)\u001b[0m\u001b[1;33m\u001b[0m\u001b[1;33m\u001b[0m\u001b[0m\n",
      "\u001b[1;31mNameError\u001b[0m: name 'pos' is not defined"
     ]
    }
   ],
   "source": [
    "# Import networkx and initialize the graph.\n",
    "import networkx as nx\n",
    "graph = nx.Graph()\n",
    "# Keep track of added nodes in this set so we don't add twice.\n",
    "nodes = set()\n",
    "# Iterate through each edge.\n",
    "for k, weight in weights.items():\n",
    "    try:\n",
    "        # Split the source and dest ids and convert to integers.\n",
    "        source, dest = k.split(\"_\")\n",
    "        source, dest = [int(source), int(dest)]\n",
    "        # Add the source if it isn't in the nodes.\n",
    "        if source not in nodes:\n",
    "            graph.add_node(source)\n",
    "        # Add the dest if it isn't in the nodes.\n",
    "        if dest not in nodes:\n",
    "            graph.add_node(dest)\n",
    "        # Add both source and dest to the nodes set.\n",
    "        # Sets don't allow duplicates.\n",
    "        nodes.add(source)\n",
    "        nodes.add(dest)\n",
    "                # Add the edge to the graph.\n",
    "        graph.add_edge(source, dest, weight=weight)\n",
    "    except (ValueError, IndexError):\n",
    "        passpos=nx.spring_layout(graph)\n",
    "# Draw the nodes and edges.nx.draw_networkx_nodes(graph,pos, node_color='red', node_size=10, alpha=0.8)\n",
    "nx.draw_networkx_edges(graph,pos,width=1.0,alpha=1)\n",
    "# Show the plot.\n",
    "plt.show()"
   ]
  },
  {
   "cell_type": "code",
   "execution_count": null,
   "metadata": {},
   "outputs": [],
   "source": []
  },
  {
   "cell_type": "code",
   "execution_count": null,
   "metadata": {},
   "outputs": [],
   "source": []
  },
  {
   "cell_type": "code",
   "execution_count": null,
   "metadata": {},
   "outputs": [],
   "source": []
  }
 ],
 "metadata": {
  "kernelspec": {
   "display_name": "Python 3",
   "language": "python",
   "name": "python3"
  },
  "language_info": {
   "codemirror_mode": {
    "name": "ipython",
    "version": 3
   },
   "file_extension": ".py",
   "mimetype": "text/x-python",
   "name": "python",
   "nbconvert_exporter": "python",
   "pygments_lexer": "ipython3",
   "version": "3.8.8"
  }
 },
 "nbformat": 4,
 "nbformat_minor": 2
}
