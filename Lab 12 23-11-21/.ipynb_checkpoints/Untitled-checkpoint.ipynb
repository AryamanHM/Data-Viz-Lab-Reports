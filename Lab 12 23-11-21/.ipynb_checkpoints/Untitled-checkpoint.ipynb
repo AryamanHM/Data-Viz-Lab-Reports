{
 "cells": [
  {
   "cell_type": "code",
   "execution_count": 6,
   "metadata": {},
   "outputs": [],
   "source": [
    "# Import the pandas library.\n",
    "import pandas\n",
    "# Read in the airports data.\n",
    "airports = pandas.read_csv(\"airports.csv\", header=None, dtype=str)\n",
    "airports.columns = [\"id\", \"name\", \"city\", \"country\", \"code\", \"icao\", \"latitude\", \"longitude\", \"altitude\", \"offset\", \"dst\", \"timezone\"]\n",
    "# Read in the airlines data.\n",
    "airlines = pandas.read_csv(\"airlines.csv\", header=None, dtype=str)\n",
    "airlines.columns = [\"id\", \"name\", \"alias\", \"iata\", \"icao\", \"callsign\", \"country\", \"active\"]\n",
    "# Read in the routes data.\n",
    "routes = pandas.read_csv(\"routes.csv\", header=None, dtype=str)\n",
    "routes.columns = [\"airline\", \"airline_id\", \"source\", \"source_id\", \"dest\", \"dest_id\", \"codeshare\", \"stops\", \"equipment\"]"
   ]
  },
  {
   "cell_type": "code",
   "execution_count": 7,
   "metadata": {},
   "outputs": [
    {
     "data": {
      "text/html": [
       "<div>\n",
       "<style scoped>\n",
       "    .dataframe tbody tr th:only-of-type {\n",
       "        vertical-align: middle;\n",
       "    }\n",
       "\n",
       "    .dataframe tbody tr th {\n",
       "        vertical-align: top;\n",
       "    }\n",
       "\n",
       "    .dataframe thead th {\n",
       "        text-align: right;\n",
       "    }\n",
       "</style>\n",
       "<table border=\"1\" class=\"dataframe\">\n",
       "  <thead>\n",
       "    <tr style=\"text-align: right;\">\n",
       "      <th></th>\n",
       "      <th>id</th>\n",
       "      <th>name</th>\n",
       "      <th>city</th>\n",
       "      <th>country</th>\n",
       "      <th>code</th>\n",
       "      <th>icao</th>\n",
       "      <th>latitude</th>\n",
       "      <th>longitude</th>\n",
       "      <th>altitude</th>\n",
       "      <th>offset</th>\n",
       "      <th>dst</th>\n",
       "      <th>timezone</th>\n",
       "    </tr>\n",
       "  </thead>\n",
       "  <tbody>\n",
       "    <tr>\n",
       "      <th>0</th>\n",
       "      <td>1</td>\n",
       "      <td>Goroka Airport</td>\n",
       "      <td>Goroka</td>\n",
       "      <td>Papua New Guinea</td>\n",
       "      <td>GKA</td>\n",
       "      <td>AYGA</td>\n",
       "      <td>-6.081689835</td>\n",
       "      <td>145.3919983</td>\n",
       "      <td>5282</td>\n",
       "      <td>10</td>\n",
       "      <td>U</td>\n",
       "      <td>Pacific/Port_Moresby</td>\n",
       "    </tr>\n",
       "    <tr>\n",
       "      <th>1</th>\n",
       "      <td>2</td>\n",
       "      <td>Madang Airport</td>\n",
       "      <td>Madang</td>\n",
       "      <td>Papua New Guinea</td>\n",
       "      <td>MAG</td>\n",
       "      <td>AYMD</td>\n",
       "      <td>-5.207079887</td>\n",
       "      <td>145.7890015</td>\n",
       "      <td>20</td>\n",
       "      <td>10</td>\n",
       "      <td>U</td>\n",
       "      <td>Pacific/Port_Moresby</td>\n",
       "    </tr>\n",
       "    <tr>\n",
       "      <th>2</th>\n",
       "      <td>3</td>\n",
       "      <td>Mount Hagen Kagamuga Airport</td>\n",
       "      <td>Mount Hagen</td>\n",
       "      <td>Papua New Guinea</td>\n",
       "      <td>HGU</td>\n",
       "      <td>AYMH</td>\n",
       "      <td>-5.826789856</td>\n",
       "      <td>144.2960052</td>\n",
       "      <td>5388</td>\n",
       "      <td>10</td>\n",
       "      <td>U</td>\n",
       "      <td>Pacific/Port_Moresby</td>\n",
       "    </tr>\n",
       "    <tr>\n",
       "      <th>3</th>\n",
       "      <td>4</td>\n",
       "      <td>Nadzab Airport</td>\n",
       "      <td>Nadzab</td>\n",
       "      <td>Papua New Guinea</td>\n",
       "      <td>LAE</td>\n",
       "      <td>AYNZ</td>\n",
       "      <td>-6.569803</td>\n",
       "      <td>146.725977</td>\n",
       "      <td>239</td>\n",
       "      <td>10</td>\n",
       "      <td>U</td>\n",
       "      <td>Pacific/Port_Moresby</td>\n",
       "    </tr>\n",
       "    <tr>\n",
       "      <th>4</th>\n",
       "      <td>5</td>\n",
       "      <td>Port Moresby Jacksons International Airport</td>\n",
       "      <td>Port Moresby</td>\n",
       "      <td>Papua New Guinea</td>\n",
       "      <td>POM</td>\n",
       "      <td>AYPY</td>\n",
       "      <td>-9.443380356</td>\n",
       "      <td>147.2200012</td>\n",
       "      <td>146</td>\n",
       "      <td>10</td>\n",
       "      <td>U</td>\n",
       "      <td>Pacific/Port_Moresby</td>\n",
       "    </tr>\n",
       "  </tbody>\n",
       "</table>\n",
       "</div>"
      ],
      "text/plain": [
       "  id                                         name          city  \\\n",
       "0  1                               Goroka Airport        Goroka   \n",
       "1  2                               Madang Airport        Madang   \n",
       "2  3                 Mount Hagen Kagamuga Airport   Mount Hagen   \n",
       "3  4                               Nadzab Airport        Nadzab   \n",
       "4  5  Port Moresby Jacksons International Airport  Port Moresby   \n",
       "\n",
       "            country code  icao      latitude    longitude altitude offset dst  \\\n",
       "0  Papua New Guinea  GKA  AYGA  -6.081689835  145.3919983     5282     10   U   \n",
       "1  Papua New Guinea  MAG  AYMD  -5.207079887  145.7890015       20     10   U   \n",
       "2  Papua New Guinea  HGU  AYMH  -5.826789856  144.2960052     5388     10   U   \n",
       "3  Papua New Guinea  LAE  AYNZ     -6.569803   146.725977      239     10   U   \n",
       "4  Papua New Guinea  POM  AYPY  -9.443380356  147.2200012      146     10   U   \n",
       "\n",
       "               timezone  \n",
       "0  Pacific/Port_Moresby  \n",
       "1  Pacific/Port_Moresby  \n",
       "2  Pacific/Port_Moresby  \n",
       "3  Pacific/Port_Moresby  \n",
       "4  Pacific/Port_Moresby  "
      ]
     },
     "execution_count": 7,
     "metadata": {},
     "output_type": "execute_result"
    }
   ],
   "source": [
    "airports.head()"
   ]
  },
  {
   "cell_type": "code",
   "execution_count": 8,
   "metadata": {},
   "outputs": [
    {
     "data": {
      "text/html": [
       "<div>\n",
       "<style scoped>\n",
       "    .dataframe tbody tr th:only-of-type {\n",
       "        vertical-align: middle;\n",
       "    }\n",
       "\n",
       "    .dataframe tbody tr th {\n",
       "        vertical-align: top;\n",
       "    }\n",
       "\n",
       "    .dataframe thead th {\n",
       "        text-align: right;\n",
       "    }\n",
       "</style>\n",
       "<table border=\"1\" class=\"dataframe\">\n",
       "  <thead>\n",
       "    <tr style=\"text-align: right;\">\n",
       "      <th></th>\n",
       "      <th>id</th>\n",
       "      <th>name</th>\n",
       "      <th>alias</th>\n",
       "      <th>iata</th>\n",
       "      <th>icao</th>\n",
       "      <th>callsign</th>\n",
       "      <th>country</th>\n",
       "      <th>active</th>\n",
       "    </tr>\n",
       "  </thead>\n",
       "  <tbody>\n",
       "    <tr>\n",
       "      <th>0</th>\n",
       "      <td>-1</td>\n",
       "      <td>Unknown</td>\n",
       "      <td>\\N</td>\n",
       "      <td>-</td>\n",
       "      <td>NaN</td>\n",
       "      <td>\\N</td>\n",
       "      <td>\\N</td>\n",
       "      <td>Y</td>\n",
       "    </tr>\n",
       "    <tr>\n",
       "      <th>1</th>\n",
       "      <td>1</td>\n",
       "      <td>Private flight</td>\n",
       "      <td>\\N</td>\n",
       "      <td>-</td>\n",
       "      <td>NaN</td>\n",
       "      <td>NaN</td>\n",
       "      <td>NaN</td>\n",
       "      <td>Y</td>\n",
       "    </tr>\n",
       "    <tr>\n",
       "      <th>2</th>\n",
       "      <td>2</td>\n",
       "      <td>135 Airways</td>\n",
       "      <td>\\N</td>\n",
       "      <td>NaN</td>\n",
       "      <td>GNL</td>\n",
       "      <td>GENERAL</td>\n",
       "      <td>United States</td>\n",
       "      <td>N</td>\n",
       "    </tr>\n",
       "    <tr>\n",
       "      <th>3</th>\n",
       "      <td>3</td>\n",
       "      <td>1Time Airline</td>\n",
       "      <td>\\N</td>\n",
       "      <td>1T</td>\n",
       "      <td>RNX</td>\n",
       "      <td>NEXTIME</td>\n",
       "      <td>South Africa</td>\n",
       "      <td>Y</td>\n",
       "    </tr>\n",
       "    <tr>\n",
       "      <th>4</th>\n",
       "      <td>4</td>\n",
       "      <td>2 Sqn No 1 Elementary Flying Training School</td>\n",
       "      <td>\\N</td>\n",
       "      <td>NaN</td>\n",
       "      <td>WYT</td>\n",
       "      <td>NaN</td>\n",
       "      <td>United Kingdom</td>\n",
       "      <td>N</td>\n",
       "    </tr>\n",
       "  </tbody>\n",
       "</table>\n",
       "</div>"
      ],
      "text/plain": [
       "   id                                          name alias iata icao callsign  \\\n",
       "0  -1                                       Unknown    \\N    -  NaN       \\N   \n",
       "1   1                                Private flight    \\N    -  NaN      NaN   \n",
       "2   2                                   135 Airways    \\N  NaN  GNL  GENERAL   \n",
       "3   3                                 1Time Airline    \\N   1T  RNX  NEXTIME   \n",
       "4   4  2 Sqn No 1 Elementary Flying Training School    \\N  NaN  WYT      NaN   \n",
       "\n",
       "          country active  \n",
       "0              \\N      Y  \n",
       "1             NaN      Y  \n",
       "2   United States      N  \n",
       "3    South Africa      Y  \n",
       "4  United Kingdom      N  "
      ]
     },
     "execution_count": 8,
     "metadata": {},
     "output_type": "execute_result"
    }
   ],
   "source": [
    "airlines.head()"
   ]
  },
  {
   "cell_type": "code",
   "execution_count": 9,
   "metadata": {},
   "outputs": [
    {
     "data": {
      "text/html": [
       "<div>\n",
       "<style scoped>\n",
       "    .dataframe tbody tr th:only-of-type {\n",
       "        vertical-align: middle;\n",
       "    }\n",
       "\n",
       "    .dataframe tbody tr th {\n",
       "        vertical-align: top;\n",
       "    }\n",
       "\n",
       "    .dataframe thead th {\n",
       "        text-align: right;\n",
       "    }\n",
       "</style>\n",
       "<table border=\"1\" class=\"dataframe\">\n",
       "  <thead>\n",
       "    <tr style=\"text-align: right;\">\n",
       "      <th></th>\n",
       "      <th>airline</th>\n",
       "      <th>airline_id</th>\n",
       "      <th>source</th>\n",
       "      <th>source_id</th>\n",
       "      <th>dest</th>\n",
       "      <th>dest_id</th>\n",
       "      <th>codeshare</th>\n",
       "      <th>stops</th>\n",
       "      <th>equipment</th>\n",
       "    </tr>\n",
       "  </thead>\n",
       "  <tbody>\n",
       "    <tr>\n",
       "      <th>0</th>\n",
       "      <td>2B</td>\n",
       "      <td>410</td>\n",
       "      <td>AER</td>\n",
       "      <td>2965</td>\n",
       "      <td>KZN</td>\n",
       "      <td>2990</td>\n",
       "      <td>NaN</td>\n",
       "      <td>0</td>\n",
       "      <td>CR2</td>\n",
       "    </tr>\n",
       "    <tr>\n",
       "      <th>1</th>\n",
       "      <td>2B</td>\n",
       "      <td>410</td>\n",
       "      <td>ASF</td>\n",
       "      <td>2966</td>\n",
       "      <td>KZN</td>\n",
       "      <td>2990</td>\n",
       "      <td>NaN</td>\n",
       "      <td>0</td>\n",
       "      <td>CR2</td>\n",
       "    </tr>\n",
       "    <tr>\n",
       "      <th>2</th>\n",
       "      <td>2B</td>\n",
       "      <td>410</td>\n",
       "      <td>ASF</td>\n",
       "      <td>2966</td>\n",
       "      <td>MRV</td>\n",
       "      <td>2962</td>\n",
       "      <td>NaN</td>\n",
       "      <td>0</td>\n",
       "      <td>CR2</td>\n",
       "    </tr>\n",
       "    <tr>\n",
       "      <th>3</th>\n",
       "      <td>2B</td>\n",
       "      <td>410</td>\n",
       "      <td>CEK</td>\n",
       "      <td>2968</td>\n",
       "      <td>KZN</td>\n",
       "      <td>2990</td>\n",
       "      <td>NaN</td>\n",
       "      <td>0</td>\n",
       "      <td>CR2</td>\n",
       "    </tr>\n",
       "    <tr>\n",
       "      <th>4</th>\n",
       "      <td>2B</td>\n",
       "      <td>410</td>\n",
       "      <td>CEK</td>\n",
       "      <td>2968</td>\n",
       "      <td>OVB</td>\n",
       "      <td>4078</td>\n",
       "      <td>NaN</td>\n",
       "      <td>0</td>\n",
       "      <td>CR2</td>\n",
       "    </tr>\n",
       "  </tbody>\n",
       "</table>\n",
       "</div>"
      ],
      "text/plain": [
       "  airline airline_id source source_id dest dest_id codeshare stops equipment\n",
       "0      2B        410    AER      2965  KZN    2990       NaN     0       CR2\n",
       "1      2B        410    ASF      2966  KZN    2990       NaN     0       CR2\n",
       "2      2B        410    ASF      2966  MRV    2962       NaN     0       CR2\n",
       "3      2B        410    CEK      2968  KZN    2990       NaN     0       CR2\n",
       "4      2B        410    CEK      2968  OVB    4078       NaN     0       CR2"
      ]
     },
     "execution_count": 9,
     "metadata": {},
     "output_type": "execute_result"
    }
   ],
   "source": [
    "routes.head()"
   ]
  },
  {
   "cell_type": "code",
   "execution_count": 10,
   "metadata": {},
   "outputs": [],
   "source": [
    "routes = routes[routes[\"airline_id\"] != \"\\\\N\"]"
   ]
  },
  {
   "cell_type": "code",
   "execution_count": 11,
   "metadata": {},
   "outputs": [],
   "source": [
    "import math\n",
    "def haversine(lon1, lat1, lon2, lat2):\n",
    "    # Convert coordinates to floats.\n",
    "    lon1, lat1, lon2, lat2 = [float(lon1), float(lat1), float(lon2), float(lat2)]\n",
    "    # Convert to radians from degrees.\n",
    "    lon1, lat1, lon2, lat2 = map(math.radians, [lon1, lat1, lon2, lat2])\n",
    "    # Compute distance.\n",
    "    dlon = lon2 - lon1\n",
    "    dlat = lat2 - lat1\n",
    "    a = math.sin(dlat/2)**2 + math.cos(lat1) * math.cos(lat2) * math.sin(dlon/2)**2\n",
    "    c = 2 * math.asin(math.sqrt(a))\n",
    "    km = 6367 * c\n",
    "    return km"
   ]
  },
  {
   "cell_type": "code",
   "execution_count": 12,
   "metadata": {},
   "outputs": [],
   "source": [
    "def calc_dist(row):\n",
    "    dist = 0\n",
    "    try:\n",
    "        # Match source and destination to get coordinates.\n",
    "        source = airports[airports[\"id\"] == row[\"source_id\"]].iloc[0]\n",
    "        dest = airports[airports[\"id\"] == row[\"dest_id\"]].iloc[0]\n",
    "        # Use coordinates to compute distance.\n",
    "        dist = haversine(dest[\"longitude\"], dest[\"latitude\"], source[\"longitude\"], source[\"latitude\"])\n",
    "    except (ValueError, IndexError):\n",
    "        pass\n",
    "    return dist"
   ]
  },
  {
   "cell_type": "code",
   "execution_count": 13,
   "metadata": {},
   "outputs": [],
   "source": [
    "route_lengths = routes.apply(calc_dist, axis=1)"
   ]
  },
  {
   "cell_type": "code",
   "execution_count": 14,
   "metadata": {},
   "outputs": [
    {
     "data": {
      "text/plain": [
       "(array([2.2631e+04, 1.9856e+04, 1.0061e+04, 5.3400e+03, 2.6230e+03,\n",
       "        1.1050e+03, 8.7800e+02, 1.0370e+03, 9.2600e+02, 7.8200e+02,\n",
       "        6.5500e+02, 5.5500e+02, 2.4900e+02, 2.4400e+02, 1.5400e+02,\n",
       "        4.4000e+01, 3.8000e+01, 2.0000e+00, 0.0000e+00, 4.0000e+00]),\n",
       " array([    0.        ,   803.60790188,  1607.21580375,  2410.82370563,\n",
       "         3214.43160751,  4018.03950938,  4821.64741126,  5625.25531313,\n",
       "         6428.86321501,  7232.47111689,  8036.07901876,  8839.68692064,\n",
       "         9643.29482252, 10446.90272439, 11250.51062627, 12054.11852815,\n",
       "        12857.72643002, 13661.3343319 , 14464.94223378, 15268.55013565,\n",
       "        16072.15803753]),\n",
       " <BarContainer object of 20 artists>)"
      ]
     },
     "execution_count": 14,
     "metadata": {},
     "output_type": "execute_result"
    },
    {
     "data": {
      "image/png": "[encoded data removed]",
      "text/plain": [
       "<Figure size 432x288 with 1 Axes>"
      ]
     },
     "metadata": {
      "needs_background": "light"
     },
     "output_type": "display_data"
    }
   ],
   "source": [
    "import matplotlib.pyplot as plt\n",
    "\n",
    "plt.hist(route_lengths, bins=20)"
   ]
  },
  {
   "cell_type": "code",
   "execution_count": 15,
   "metadata": {},
   "outputs": [
    {
     "name": "stderr",
     "output_type": "stream",
     "text": [
      "D:\\Anaconda\\lib\\site-packages\\seaborn\\distributions.py:2557: FutureWarning: `distplot` is a deprecated function and will be removed in a future version. Please adapt your code to use either `displot` (a figure-level function with similar flexibility) or `histplot` (an axes-level function for histograms).\n",
      "  warnings.warn(msg, FutureWarning)\n"
     ]
    },
    {
     "data": {
      "text/plain": [
       "<AxesSubplot:ylabel='Density'>"
      ]
     },
     "execution_count": 15,
     "metadata": {},
     "output_type": "execute_result"
    },
    {
     "data": {
      "image/png": "[encoded data removed]",
      "text/plain": [
       "<Figure size 432x288 with 1 Axes>"
      ]
     },
     "metadata": {
      "needs_background": "light"
     },
     "output_type": "display_data"
    }
   ],
   "source": [
    "import seaborn\n",
    "seaborn.distplot(route_lengths, bins=20)"
   ]
  },
  {
   "cell_type": "code",
   "execution_count": 17,
   "metadata": {},
   "outputs": [],
   "source": [
    "import numpy\n",
    "# Put relevant columns into a dataframe.\n",
    "route_length_df = pandas.DataFrame({\"length\": route_lengths, \"id\": routes[\"airline_id\"]})\n",
    "# Compute the mean route length per airline.\n",
    "airline_route_lengths = route_length_df.groupby(\"id\").aggregate(numpy.mean)\n",
    "# Sort by length so we can make a better chart.\n",
    "airline_route_lengths = airline_route_lengths.sort_values(\"length\", ascending=False)"
   ]
  },
  {
   "cell_type": "code",
   "execution_count": 18,
   "metadata": {},
   "outputs": [
    {
     "data": {
      "text/plain": [
       "<BarContainer object of 547 artists>"
      ]
     },
     "execution_count": 18,
     "metadata": {},
     "output_type": "execute_result"
    },
    {
     "data": {
      "image/png": "[encoded data removed]",
      "text/plain": [
       "<Figure size 432x288 with 1 Axes>"
      ]
     },
     "metadata": {
      "needs_background": "light"
     },
     "output_type": "display_data"
    }
   ],
   "source": [
    "plt.bar(range(airline_route_lengths.shape[0]), airline_route_lengths[\"length\"])"
   ]
  },
  {
   "cell_type": "code",
   "execution_count": 19,
   "metadata": {},
   "outputs": [],
   "source": [
    "def lookup_name(row):\n",
    "    try:\n",
    "        # Match the row id to the id in the airlines dataframe so we can get the name.\n",
    "        name = airlines[\"name\"][airlines[\"id\"] == row[\"id\"]].iloc[0]\n",
    "    except (ValueError, IndexError):\n",
    "        name = \"\"\n",
    "    return name\n",
    "# Add the index (the airline ids) as a column.\n",
    "airline_route_lengths[\"id\"] = airline_route_lengths.index.copy()\n",
    "# Find all the airline names.\n",
    "airline_route_lengths[\"name\"] = airline_route_lengths.apply(lookup_name, axis=1)\n",
    "# Remove duplicate values in the index.\n",
    "airline_route_lengths.index = range(airline_route_lengths.shape[0])"
   ]
  },
  {
   "cell_type": "code",
   "execution_count": 33,
   "metadata": {},
   "outputs": [],
   "source": [
    "import numpy as np\n",
    "from bokeh.io import output_notebook\n",
    "#from bokeh.charts import Bar, showoutput_notebook()\n",
    "#p = Bar(airline_route_lengths, 'name', values='length', title=\"Average airline route lengths\")\n",
    "#show(p)\n",
    "from bokeh.plotting import figure\n",
    "#p = figure(x_range=airline_route_lengths, height=250, title=\"Average airline route lengths\", toolbar_location=None, tools=\"\")\n",
    "\n",
    "#p.vbar(x=airline_route_lengths, top=counts, width=0.9)"
   ]
  },
  {
   "cell_type": "code",
   "execution_count": 34,
   "metadata": {},
   "outputs": [],
   "source": [
    "long_routes = len([k for k in route_lengths if k > 10000]) / len(route_lengths)\n",
    "medium_routes = len([k for k in route_lengths if k < 10000 and k > 2000]) / len(route_lengths)\n",
    "short_routes = len([k for k in route_lengths if k < 2000]) / len(route_lengths)"
   ]
  },
  {
   "cell_type": "code",
   "execution_count": 36,
   "metadata": {},
   "outputs": [
    {
     "name": "stdout",
     "output_type": "stream",
     "text": [
      "Collecting pygal\n",
      "  Downloading pygal-2.4.0-py2.py3-none-any.whl (127 kB)\n",
      "Installing collected packages: pygal\n",
      "Successfully installed pygal-2.4.0\n",
      "Note: you may need to restart the kernel to use updated packages.\n"
     ]
    }
   ],
   "source": [
    "pip install pygal"
   ]
  },
  {
   "cell_type": "code",
   "execution_count": 35,
   "metadata": {},
   "outputs": [
    {
     "ename": "ModuleNotFoundError",
     "evalue": "No module named 'pygal'",
     "output_type": "error",
     "traceback": [
      "\u001b[1;31m---------------------------------------------------------------------------\u001b[0m",
      "\u001b[1;31mModuleNotFoundError\u001b[0m                       Traceback (most recent call last)",
      "\u001b[1;32m<ipython-input-35-1c18a970517a>\u001b[0m in \u001b[0;36m<module>\u001b[1;34m\u001b[0m\n\u001b[1;32m----> 1\u001b[1;33m \u001b[1;32mimport\u001b[0m \u001b[0mpygal\u001b[0m\u001b[1;33m\u001b[0m\u001b[1;33m\u001b[0m\u001b[0m\n\u001b[0m\u001b[0;32m      2\u001b[0m \u001b[1;32mfrom\u001b[0m \u001b[0mIPython\u001b[0m\u001b[1;33m.\u001b[0m\u001b[0mdisplay\u001b[0m \u001b[1;32mimport\u001b[0m \u001b[0mSVG\u001b[0m\u001b[1;33m\u001b[0m\u001b[1;33m\u001b[0m\u001b[0m\n\u001b[0;32m      3\u001b[0m \u001b[0mchart\u001b[0m \u001b[1;33m=\u001b[0m \u001b[0mpygal\u001b[0m\u001b[1;33m.\u001b[0m\u001b[0mHorizontalBar\u001b[0m\u001b[1;33m(\u001b[0m\u001b[1;33m)\u001b[0m\u001b[1;33m\u001b[0m\u001b[1;33m\u001b[0m\u001b[0m\n\u001b[0;32m      4\u001b[0m \u001b[0mchart\u001b[0m\u001b[1;33m.\u001b[0m\u001b[0mtitle\u001b[0m \u001b[1;33m=\u001b[0m \u001b[1;34m'Long, medium, and short routes'\u001b[0m\u001b[1;33m\u001b[0m\u001b[1;33m\u001b[0m\u001b[0m\n\u001b[0;32m      5\u001b[0m \u001b[0mchart\u001b[0m\u001b[1;33m.\u001b[0m\u001b[0madd\u001b[0m\u001b[1;33m(\u001b[0m\u001b[1;34m'Long'\u001b[0m\u001b[1;33m,\u001b[0m \u001b[0mlong_routes\u001b[0m \u001b[1;33m*\u001b[0m \u001b[1;36m100\u001b[0m\u001b[1;33m)\u001b[0m\u001b[1;33m\u001b[0m\u001b[1;33m\u001b[0m\u001b[0m\n",
      "\u001b[1;31mModuleNotFoundError\u001b[0m: No module named 'pygal'"
     ]
    }
   ],
   "source": [
    "import pygal\n",
    "from IPython.display import SVG\n",
    "chart = pygal.HorizontalBar()\n",
    "chart.title = 'Long, medium, and short routes'\n",
    "chart.add('Long', long_routes * 100)\n",
    "chart.add('Medium', medium_routes * 100)\n",
    "chart.add('Short', short_routes * 100)\n",
    "chart.render_to_file('routes.svg')\n",
    "SVG(filename='routes.svg')"
   ]
  },
  {
   "cell_type": "code",
   "execution_count": null,
   "metadata": {},
   "outputs": [],
   "source": [
    "name_lengths = airlines[\"name\"].apply(lambda x: len(str(x)))\n",
    "plt.scatter(airlines[\"id\"].astype(int), name_lengths)"
   ]
  },
  {
   "cell_type": "code",
   "execution_count": null,
   "metadata": {},
   "outputs": [],
   "source": [
    "data = pandas.DataFrame({\"lengths\": name_lengths, \"ids\": airlines[\"id\"].astype(int)})\n",
    "seaborn.jointplot(x=\"ids\", y=\"lengths\", data=data)"
   ]
  },
  {
   "cell_type": "code",
   "execution_count": null,
   "metadata": {},
   "outputs": [],
   "source": [
    "# Import the basemap package\n",
    "from mpl_toolkits.basemap import Basemap\n",
    "# Create a map on which to draw.  We're using a mercator projection, and showing the whole world.\n",
    "m = Basemap(projection='merc',llcrnrlat=-80,urcrnrlat=80,llcrnrlon=-180,urcrnrlon=180,lat_ts=20,resolution='c')\n",
    "# Draw coastlines, and the edges of the map.\n",
    "m.drawcoastlines()\n",
    "m.drawmapboundary()\n",
    "# Convert latitude and longitude to x and y coordinatesx, y = m(list(airports[\"longitude\"].astype(float)), list(airports[\"latitude\"].astype(float)))\n",
    "# Use matplotlib to draw the points onto the map.\n",
    "m.scatter(x,y,1,marker='o',color='red')\n",
    "# Show the plot.\n",
    "plt.show()"
   ]
  },
  {
   "cell_type": "code",
   "execution_count": null,
   "metadata": {},
   "outputs": [],
   "source": [
    "import folium\n",
    "# Get a basic world map.\n",
    "airports_map = folium.Map(location=[30, 0], zoom_start=2)\n",
    "# Draw markers on the map.\n",
    "for name, row in airports.iterrows():\n",
    "    # For some reason, this one airport causes issues with the map.\n",
    "    if row[\"name\"] != \"South Pole Station\":\n",
    "        airports_map.circle_marker(location=[row[\"latitude\"], row[\"longitude\"]], popup=row[\"name\"])\n",
    "# Create and show the map.airports_map.create_map('airports.html')\n",
    "airports_map"
   ]
  },
  {
   "cell_type": "code",
   "execution_count": null,
   "metadata": {},
   "outputs": [],
   "source": [
    "# Make a base map with a mercator projection.\n",
    "# Draw the coastlines.\n",
    "m = Basemap(projection='merc',llcrnrlat=-80,urcrnrlat=80,llcrnrlon=-180,urcrnrlon=180,lat_ts=20,resolution='c')\n",
    "m.drawcoastlines()\n",
    "# Iterate through the first 3000 rows.\n",
    "for name, row in routes[:3000].iterrows():\n",
    "    try:\n",
    "        # Get the source and dest airports.\n",
    "        source = airports[airports[\"id\"] == row[\"source_id\"]].iloc[0]\n",
    "        dest = airports[airports[\"id\"] == row[\"dest_id\"]].iloc[0]\n",
    "        # Don't draw overly long routes.\n",
    "        if abs(float(source[\"longitude\"]) - float(dest[\"longitude\"])) < 90:\n",
    "            # Draw a great circle between source and dest airports.\n",
    "            m.drawgreatcircle(float(source[\"longitude\"]), float(source[\"latitude\"]), float(dest[\"longitude\"]), float(dest[\"latitude\"]),linewidth=1,color='b')\n",
    "    except (ValueError, IndexError):\n",
    "        pass\n",
    "    # Show the map.\n",
    "plt.show()"
   ]
  },
  {
   "cell_type": "code",
   "execution_count": null,
   "metadata": {},
   "outputs": [],
   "source": [
    "# Initialize the weights dictionary.\n",
    "weights = {}\n",
    "# Keep track of keys that have been added once -- we only want edges with a weight of more than 1 to keep our network size manageable.added_keys = []\n",
    "# Iterate through each route.\n",
    "for name, row in routes.iterrows():\n",
    "    # Extract the source and dest airport ids.\n",
    "    source = row[\"source_id\"]\n",
    "    dest = row[\"dest_id\"]\n",
    "        # Create a key for the weights dictionary.\n",
    "    # This corresponds to one edge, and has the start and end of the route.\n",
    "    key = \"{0}_{1}\".format(source, dest)\n",
    "    # If the key is already in weights, increment the weight.\n",
    "    if key in weights:\n",
    "        weights[key] += 1\n",
    "    # If the key is in added keys, initialize the key in the weights dictionary, with a weight of 2.\n",
    "    elif key in added_keys:\n",
    "        weights[key] = 2\n",
    "    # If the key isn't in added_keys yet, append it.\n",
    "    # This ensures that we aren't adding edges with a weight of 1.\n",
    "    else:\n",
    "        added_keys.append(key)"
   ]
  },
  {
   "cell_type": "code",
   "execution_count": null,
   "metadata": {},
   "outputs": [],
   "source": [
    "# Import networkx and initialize the graph.\n",
    "import networkx as nx\n",
    "graph = nx.Graph()\n",
    "# Keep track of added nodes in this set so we don't add twice.\n",
    "nodes = set()\n",
    "# Iterate through each edge.\n",
    "for k, weight in weights.items():\n",
    "    try:\n",
    "        # Split the source and dest ids and convert to integers.\n",
    "        source, dest = k.split(\"_\")\n",
    "        source, dest = [int(source), int(dest)]\n",
    "        # Add the source if it isn't in the nodes.\n",
    "        if source not in nodes:\n",
    "            graph.add_node(source)\n",
    "        # Add the dest if it isn't in the nodes.\n",
    "        if dest not in nodes:\n",
    "            graph.add_node(dest)\n",
    "        # Add both source and dest to the nodes set.\n",
    "        # Sets don't allow duplicates.\n",
    "        nodes.add(source)\n",
    "        nodes.add(dest)\n",
    "                # Add the edge to the graph.\n",
    "        graph.add_edge(source, dest, weight=weight)\n",
    "    except (ValueError, IndexError):\n",
    "        passpos=nx.spring_layout(graph)\n",
    "# Draw the nodes and edges.nx.draw_networkx_nodes(graph,pos, node_color='red', node_size=10, alpha=0.8)\n",
    "nx.draw_networkx_edges(graph,pos,width=1.0,alpha=1)\n",
    "# Show the plot.\n",
    "plt.show()"
   ]
  },
  {
   "cell_type": "code",
   "execution_count": null,
   "metadata": {},
   "outputs": [],
   "source": []
  },
  {
   "cell_type": "code",
   "execution_count": null,
   "metadata": {},
   "outputs": [],
   "source": []
  },
  {
   "cell_type": "code",
   "execution_count": null,
   "metadata": {},
   "outputs": [],
   "source": []
  }
 ],
 "metadata": {
  "kernelspec": {
   "display_name": "Python 3",
   "language": "python",
   "name": "python3"
  },
  "language_info": {
   "codemirror_mode": {
    "name": "ipython",
    "version": 3
   },
   "file_extension": ".py",
   "mimetype": "text/x-python",
   "name": "python",
   "nbconvert_exporter": "python",
   "pygments_lexer": "ipython3",
   "version": "3.8.8"
  }
 },
 "nbformat": 4,
 "nbformat_minor": 2
}
